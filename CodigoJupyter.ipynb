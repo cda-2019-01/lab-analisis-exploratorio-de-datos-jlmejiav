{
 "cells": [
  {
   "cell_type": "code",
   "execution_count": 60,
   "metadata": {},
   "outputs": [],
   "source": [
    "import pandas as pd \n",
    "import numpy as np \n",
    "## definir función para leer\n",
    "def leer_precios(filename):\n",
    "    for k in range(10):\n",
    "        df = pd.read_excel(filename,\n",
    "                           skiprows = k,\n",
    "                           usecols = list(range(26)))\n",
    "        if df.iloc[0,0] == 'Fecha':\n",
    "            df = pd.read_excel(filename,\n",
    "                               skiprows = k+1,\n",
    "                               usecols = list(range(26)))\n",
    "            break\n",
    "        \n",
    "    return(df)\n",
    "## \n",
    "filenames = !ls precios/*\n",
    "dfs = []\n",
    "for filename in filenames:\n",
    "    dfs.append(leer_precios(filename))"
   ]
  },
  {
   "cell_type": "code",
   "execution_count": 61,
   "metadata": {},
   "outputs": [],
   "source": [
    "dfs2 = pd.concat(dfs, sort=True)"
   ]
  },
  {
   "cell_type": "code",
   "execution_count": 62,
   "metadata": {},
   "outputs": [],
   "source": [
    "# dfs"
   ]
  },
  {
   "cell_type": "code",
   "execution_count": 63,
   "metadata": {},
   "outputs": [],
   "source": [
    "dfs1 = pd.melt(dfs2,id_vars='Fecha')"
   ]
  },
  {
   "cell_type": "code",
   "execution_count": null,
   "metadata": {},
   "outputs": [],
   "source": []
  }
 ],
 "metadata": {
  "kernelspec": {
   "display_name": "Python 3",
   "language": "python",
   "name": "python3"
  },
  "language_info": {
   "codemirror_mode": {
    "name": "ipython",
    "version": 3
   },
   "file_extension": ".py",
   "mimetype": "text/x-python",
   "name": "python",
   "nbconvert_exporter": "python",
   "pygments_lexer": "ipython3",
   "version": "3.6.7"
  }
 },
 "nbformat": 4,
 "nbformat_minor": 2
}
