{
 "cells": [
  {
   "cell_type": "markdown",
   "metadata": {},
   "source": [
    "Evolución de los Precios de la Electricidad\n",
    "==="
   ]
  },
  {
   "cell_type": "markdown",
   "metadata": {},
   "source": [
    "# Instrucciones"
   ]
  },
  {
   "cell_type": "markdown",
   "metadata": {},
   "source": [
    "En el archivo `precios.zip`  se encuentran los archivos `Precio_Bolsa_Nacional_($kwh)_ano.xls` en formato de Microsoft Excel, los cuales contienen los precios históricos horarios de la electricidad para el mercado eléctrico Colombiano entre los años 1995 y 2017 en COL-PESOS/kWh. A partir de la información suministrada realice las siguientes actividades. "
   ]
  },
  {
   "cell_type": "markdown",
   "metadata": {},
   "source": [
    "**1.--** Lea los archivos y cree una tabla única concatenando la información para cada uno de los años. Debe transformar la tabla de tal forma que quede con las columnas `Fecha`, `Hora` y `Precio` (únicamente tres columnas)."
   ]
  },
  {
   "cell_type": "markdown",
   "metadata": {},
   "source": [
    "**2.--** Compute e imprima el número de registros con datos faltantes."
   ]
  },
  {
   "cell_type": "markdown",
   "metadata": {},
   "source": [
    "**3.--** Compute e imprima el número de registros duplicados."
   ]
  },
  {
   "cell_type": "markdown",
   "metadata": {},
   "source": [
    "**4.--** Elimine los registros con datos duplicados o datos faltantes, e imprima la cantidad de registros que quedan (registros completos)."
   ]
  },
  {
   "cell_type": "markdown",
   "metadata": {},
   "source": [
    "**5.--** Compute y grafique el precio primedio diario."
   ]
  },
  {
   "cell_type": "markdown",
   "metadata": {},
   "source": [
    "**6.--** Compute y grafique el precio máximo por mes."
   ]
  },
  {
   "cell_type": "markdown",
   "metadata": {},
   "source": [
    "**7.--** Compute y grafique el precio mínimo mensual."
   ]
  },
  {
   "cell_type": "markdown",
   "metadata": {},
   "source": [
    "**8.--** Haga un gráfico para comparar el precio máximo del mes (para cada mes) y el precio promedio mensual."
   ]
  },
  {
   "cell_type": "markdown",
   "metadata": {},
   "source": [
    "**9.--** Haga un histograma que muestre a que horas se produce el máximo precio diario para los días laborales."
   ]
  },
  {
   "cell_type": "markdown",
   "metadata": {},
   "source": [
    "**10.--** Haga un histograma que muestre a que horas se produce el máximo precio diario para los días sabado."
   ]
  },
  {
   "cell_type": "markdown",
   "metadata": {},
   "source": [
    "**11.--** Haga un histograma que muestre a que horas se produce el máximo precio diario para los días domingo."
   ]
  },
  {
   "cell_type": "markdown",
   "metadata": {},
   "source": [
    "**12.--** Imprima una tabla con la fecha y el valor más bajo por año del precio de bolsa."
   ]
  },
  {
   "cell_type": "markdown",
   "metadata": {},
   "source": [
    "**13.--** Haga una gráfica en que se muestre el precio promedio diario y el precio promedio mensual."
   ]
  },
  {
   "cell_type": "markdown",
   "metadata": {},
   "source": [
    "---"
   ]
  },
  {
   "cell_type": "code",
   "execution_count": null,
   "metadata": {},
   "outputs": [],
   "source": [
    "### 1) Leer"
   ]
  },
  {
   "cell_type": "code",
   "execution_count": 1,
   "metadata": {},
   "outputs": [],
   "source": [
    "import pandas as pd \n",
    "import numpy as np \n",
    "## definir función para leer\n",
    "def leer_precios(filename):\n",
    "    for k in range(10):\n",
    "        df = pd.read_excel(filename,\n",
    "                           skiprows = k,\n",
    "                           usecols = list(range(26)))\n",
    "        if df.iloc[0,0] == 'Fecha':\n",
    "            df = pd.read_excel(filename,\n",
    "                               skiprows = k+1,\n",
    "                               usecols = list(range(26)))\n",
    "            break\n",
    "        \n",
    "    return(df)\n",
    "## \n",
    "filenames = !ls precios/*\n",
    "dfs = []\n",
    "for filename in filenames:\n",
    "    dfs.append(leer_precios(filename))"
   ]
  },
  {
   "cell_type": "code",
   "execution_count": 3,
   "metadata": {},
   "outputs": [],
   "source": [
    "dfs2 = pd.concat(dfs, sort=True)"
   ]
  },
  {
   "cell_type": "code",
   "execution_count": 4,
   "metadata": {},
   "outputs": [
    {
     "data": {
      "text/plain": [
       "(8409, 26)"
      ]
     },
     "execution_count": 4,
     "metadata": {},
     "output_type": "execute_result"
    }
   ],
   "source": [
    "dfs2.shape"
   ]
  },
  {
   "cell_type": "code",
   "execution_count": 5,
   "metadata": {},
   "outputs": [
    {
     "data": {
      "text/html": [
       "<div>\n",
       "<style scoped>\n",
       "    .dataframe tbody tr th:only-of-type {\n",
       "        vertical-align: middle;\n",
       "    }\n",
       "\n",
       "    .dataframe tbody tr th {\n",
       "        vertical-align: top;\n",
       "    }\n",
       "\n",
       "    .dataframe thead th {\n",
       "        text-align: right;\n",
       "    }\n",
       "</style>\n",
       "<table border=\"1\" class=\"dataframe\">\n",
       "  <thead>\n",
       "    <tr style=\"text-align: right;\">\n",
       "      <th></th>\n",
       "      <th>0</th>\n",
       "      <th>1</th>\n",
       "      <th>10</th>\n",
       "      <th>11</th>\n",
       "      <th>12</th>\n",
       "      <th>13</th>\n",
       "      <th>14</th>\n",
       "      <th>15</th>\n",
       "      <th>16</th>\n",
       "      <th>17</th>\n",
       "      <th>...</th>\n",
       "      <th>23</th>\n",
       "      <th>3</th>\n",
       "      <th>4</th>\n",
       "      <th>5</th>\n",
       "      <th>6</th>\n",
       "      <th>7</th>\n",
       "      <th>8</th>\n",
       "      <th>9</th>\n",
       "      <th>Fecha</th>\n",
       "      <th>Version</th>\n",
       "    </tr>\n",
       "  </thead>\n",
       "  <tbody>\n",
       "    <tr>\n",
       "      <th>0</th>\n",
       "      <td>NaN</td>\n",
       "      <td>1.073</td>\n",
       "      <td>2.827</td>\n",
       "      <td>2.827</td>\n",
       "      <td>2.827</td>\n",
       "      <td>1.074</td>\n",
       "      <td>1.073</td>\n",
       "      <td>1.073</td>\n",
       "      <td>1.073</td>\n",
       "      <td>1.073</td>\n",
       "      <td>...</td>\n",
       "      <td>1.073</td>\n",
       "      <td>1.073</td>\n",
       "      <td>1.073</td>\n",
       "      <td>1.073</td>\n",
       "      <td>1.073</td>\n",
       "      <td>1.073</td>\n",
       "      <td>1.074</td>\n",
       "      <td>1.074</td>\n",
       "      <td>1995-07-20</td>\n",
       "      <td>NaN</td>\n",
       "    </tr>\n",
       "    <tr>\n",
       "      <th>1</th>\n",
       "      <td>1.073</td>\n",
       "      <td>1.000</td>\n",
       "      <td>6.000</td>\n",
       "      <td>9.256</td>\n",
       "      <td>9.256</td>\n",
       "      <td>5.000</td>\n",
       "      <td>5.000</td>\n",
       "      <td>1.000</td>\n",
       "      <td>1.000</td>\n",
       "      <td>5.000</td>\n",
       "      <td>...</td>\n",
       "      <td>1.000</td>\n",
       "      <td>1.000</td>\n",
       "      <td>1.000</td>\n",
       "      <td>1.000</td>\n",
       "      <td>5.000</td>\n",
       "      <td>6.000</td>\n",
       "      <td>6.000</td>\n",
       "      <td>6.000</td>\n",
       "      <td>1995-07-21</td>\n",
       "      <td>NaN</td>\n",
       "    </tr>\n",
       "    <tr>\n",
       "      <th>2</th>\n",
       "      <td>1.073</td>\n",
       "      <td>1.073</td>\n",
       "      <td>1.303</td>\n",
       "      <td>1.303</td>\n",
       "      <td>1.303</td>\n",
       "      <td>1.303</td>\n",
       "      <td>1.073</td>\n",
       "      <td>1.000</td>\n",
       "      <td>1.000</td>\n",
       "      <td>1.000</td>\n",
       "      <td>...</td>\n",
       "      <td>1.073</td>\n",
       "      <td>1.000</td>\n",
       "      <td>1.000</td>\n",
       "      <td>1.073</td>\n",
       "      <td>1.303</td>\n",
       "      <td>1.303</td>\n",
       "      <td>1.303</td>\n",
       "      <td>1.303</td>\n",
       "      <td>1995-07-22</td>\n",
       "      <td>NaN</td>\n",
       "    </tr>\n",
       "    <tr>\n",
       "      <th>3</th>\n",
       "      <td>1.073</td>\n",
       "      <td>1.000</td>\n",
       "      <td>1.000</td>\n",
       "      <td>1.000</td>\n",
       "      <td>1.238</td>\n",
       "      <td>1.238</td>\n",
       "      <td>1.000</td>\n",
       "      <td>0.100</td>\n",
       "      <td>0.100</td>\n",
       "      <td>1.000</td>\n",
       "      <td>...</td>\n",
       "      <td>1.000</td>\n",
       "      <td>1.000</td>\n",
       "      <td>1.000</td>\n",
       "      <td>1.000</td>\n",
       "      <td>0.100</td>\n",
       "      <td>1.000</td>\n",
       "      <td>1.000</td>\n",
       "      <td>1.000</td>\n",
       "      <td>1995-07-23</td>\n",
       "      <td>NaN</td>\n",
       "    </tr>\n",
       "    <tr>\n",
       "      <th>4</th>\n",
       "      <td>1.000</td>\n",
       "      <td>1.000</td>\n",
       "      <td>8.845</td>\n",
       "      <td>9.256</td>\n",
       "      <td>3.000</td>\n",
       "      <td>1.073</td>\n",
       "      <td>1.073</td>\n",
       "      <td>1.073</td>\n",
       "      <td>3.000</td>\n",
       "      <td>2.000</td>\n",
       "      <td>...</td>\n",
       "      <td>1.000</td>\n",
       "      <td>1.000</td>\n",
       "      <td>1.000</td>\n",
       "      <td>1.073</td>\n",
       "      <td>3.000</td>\n",
       "      <td>3.000</td>\n",
       "      <td>3.000</td>\n",
       "      <td>3.500</td>\n",
       "      <td>1995-07-24</td>\n",
       "      <td>NaN</td>\n",
       "    </tr>\n",
       "  </tbody>\n",
       "</table>\n",
       "<p>5 rows × 26 columns</p>\n",
       "</div>"
      ],
      "text/plain": [
       "       0      1     10     11     12     13     14     15     16     17  ...  \\\n",
       "0    NaN  1.073  2.827  2.827  2.827  1.074  1.073  1.073  1.073  1.073  ...   \n",
       "1  1.073  1.000  6.000  9.256  9.256  5.000  5.000  1.000  1.000  5.000  ...   \n",
       "2  1.073  1.073  1.303  1.303  1.303  1.303  1.073  1.000  1.000  1.000  ...   \n",
       "3  1.073  1.000  1.000  1.000  1.238  1.238  1.000  0.100  0.100  1.000  ...   \n",
       "4  1.000  1.000  8.845  9.256  3.000  1.073  1.073  1.073  3.000  2.000  ...   \n",
       "\n",
       "      23      3      4      5      6      7      8      9       Fecha  Version  \n",
       "0  1.073  1.073  1.073  1.073  1.073  1.073  1.074  1.074  1995-07-20      NaN  \n",
       "1  1.000  1.000  1.000  1.000  5.000  6.000  6.000  6.000  1995-07-21      NaN  \n",
       "2  1.073  1.000  1.000  1.073  1.303  1.303  1.303  1.303  1995-07-22      NaN  \n",
       "3  1.000  1.000  1.000  1.000  0.100  1.000  1.000  1.000  1995-07-23      NaN  \n",
       "4  1.000  1.000  1.000  1.073  3.000  3.000  3.000  3.500  1995-07-24      NaN  \n",
       "\n",
       "[5 rows x 26 columns]"
      ]
     },
     "execution_count": 5,
     "metadata": {},
     "output_type": "execute_result"
    }
   ],
   "source": [
    "dfs2.head()"
   ]
  },
  {
   "cell_type": "code",
   "execution_count": 4,
   "metadata": {},
   "outputs": [],
   "source": [
    "dfs1 = pd.melt(dfs2,id_vars='Fecha')"
   ]
  },
  {
   "cell_type": "code",
   "execution_count": 5,
   "metadata": {},
   "outputs": [
    {
     "data": {
      "text/plain": [
       "(201816, 3)"
      ]
     },
     "execution_count": 5,
     "metadata": {},
     "output_type": "execute_result"
    }
   ],
   "source": [
    "## Datos melt sin la versión\n",
    "dfs3=dfs2.drop(columns='Version')\n",
    "data = pd.melt(dfs3,id_vars='Fecha')\n",
    "data.shape"
   ]
  },
  {
   "cell_type": "code",
   "execution_count": 6,
   "metadata": {},
   "outputs": [
    {
     "data": {
      "text/html": [
       "<div>\n",
       "<style scoped>\n",
       "    .dataframe tbody tr th:only-of-type {\n",
       "        vertical-align: middle;\n",
       "    }\n",
       "\n",
       "    .dataframe tbody tr th {\n",
       "        vertical-align: top;\n",
       "    }\n",
       "\n",
       "    .dataframe thead th {\n",
       "        text-align: right;\n",
       "    }\n",
       "</style>\n",
       "<table border=\"1\" class=\"dataframe\">\n",
       "  <thead>\n",
       "    <tr style=\"text-align: right;\">\n",
       "      <th></th>\n",
       "      <th>Fecha</th>\n",
       "      <th>variable</th>\n",
       "      <th>value</th>\n",
       "    </tr>\n",
       "  </thead>\n",
       "  <tbody>\n",
       "    <tr>\n",
       "      <th>0</th>\n",
       "      <td>1995-07-20</td>\n",
       "      <td>0</td>\n",
       "      <td>NaN</td>\n",
       "    </tr>\n",
       "    <tr>\n",
       "      <th>1</th>\n",
       "      <td>1995-07-21</td>\n",
       "      <td>0</td>\n",
       "      <td>1.073</td>\n",
       "    </tr>\n",
       "    <tr>\n",
       "      <th>2</th>\n",
       "      <td>1995-07-22</td>\n",
       "      <td>0</td>\n",
       "      <td>1.073</td>\n",
       "    </tr>\n",
       "    <tr>\n",
       "      <th>3</th>\n",
       "      <td>1995-07-23</td>\n",
       "      <td>0</td>\n",
       "      <td>1.073</td>\n",
       "    </tr>\n",
       "    <tr>\n",
       "      <th>4</th>\n",
       "      <td>1995-07-24</td>\n",
       "      <td>0</td>\n",
       "      <td>1.000</td>\n",
       "    </tr>\n",
       "    <tr>\n",
       "      <th>5</th>\n",
       "      <td>1995-07-25</td>\n",
       "      <td>0</td>\n",
       "      <td>0.990</td>\n",
       "    </tr>\n",
       "    <tr>\n",
       "      <th>6</th>\n",
       "      <td>1995-07-26</td>\n",
       "      <td>0</td>\n",
       "      <td>0.500</td>\n",
       "    </tr>\n",
       "    <tr>\n",
       "      <th>7</th>\n",
       "      <td>1995-07-27</td>\n",
       "      <td>0</td>\n",
       "      <td>0.500</td>\n",
       "    </tr>\n",
       "    <tr>\n",
       "      <th>8</th>\n",
       "      <td>1995-07-28</td>\n",
       "      <td>0</td>\n",
       "      <td>0.000</td>\n",
       "    </tr>\n",
       "    <tr>\n",
       "      <th>9</th>\n",
       "      <td>1995-07-29</td>\n",
       "      <td>0</td>\n",
       "      <td>1.000</td>\n",
       "    </tr>\n",
       "  </tbody>\n",
       "</table>\n",
       "</div>"
      ],
      "text/plain": [
       "        Fecha variable  value\n",
       "0  1995-07-20        0    NaN\n",
       "1  1995-07-21        0  1.073\n",
       "2  1995-07-22        0  1.073\n",
       "3  1995-07-23        0  1.073\n",
       "4  1995-07-24        0  1.000\n",
       "5  1995-07-25        0  0.990\n",
       "6  1995-07-26        0  0.500\n",
       "7  1995-07-27        0  0.500\n",
       "8  1995-07-28        0  0.000\n",
       "9  1995-07-29        0  1.000"
      ]
     },
     "execution_count": 6,
     "metadata": {},
     "output_type": "execute_result"
    }
   ],
   "source": [
    "data.head(10)"
   ]
  },
  {
   "cell_type": "code",
   "execution_count": null,
   "metadata": {},
   "outputs": [],
   "source": [
    "### 2) Nan"
   ]
  },
  {
   "cell_type": "code",
   "execution_count": 106,
   "metadata": {},
   "outputs": [],
   "source": [
    "# data[data['value'].isna()]"
   ]
  },
  {
   "cell_type": "code",
   "execution_count": 8,
   "metadata": {},
   "outputs": [
    {
     "data": {
      "text/plain": [
       "(238, 3)"
      ]
     },
     "execution_count": 8,
     "metadata": {},
     "output_type": "execute_result"
    }
   ],
   "source": [
    "data[data.isna().any(axis='columns')].shape"
   ]
  },
  {
   "cell_type": "code",
   "execution_count": 9,
   "metadata": {},
   "outputs": [
    {
     "data": {
      "text/plain": [
       "Fecha        22\n",
       "variable    238\n",
       "value         0\n",
       "dtype: int64"
      ]
     },
     "execution_count": 9,
     "metadata": {},
     "output_type": "execute_result"
    }
   ],
   "source": [
    "data[data.isna().any(axis='columns')].count()"
   ]
  },
  {
   "cell_type": "code",
   "execution_count": null,
   "metadata": {},
   "outputs": [],
   "source": []
  },
  {
   "cell_type": "code",
   "execution_count": null,
   "metadata": {},
   "outputs": [],
   "source": [
    "### 3) Duplicados"
   ]
  },
  {
   "cell_type": "code",
   "execution_count": 12,
   "metadata": {},
   "outputs": [
    {
     "data": {
      "text/plain": [
       "(1951, 3)"
      ]
     },
     "execution_count": 12,
     "metadata": {},
     "output_type": "execute_result"
    }
   ],
   "source": [
    "data[data.duplicated()].shape"
   ]
  },
  {
   "cell_type": "code",
   "execution_count": 13,
   "metadata": {},
   "outputs": [
    {
     "data": {
      "text/plain": [
       "Fecha       1759\n",
       "variable    1951\n",
       "value       1759\n",
       "dtype: int64"
      ]
     },
     "execution_count": 13,
     "metadata": {},
     "output_type": "execute_result"
    }
   ],
   "source": [
    "data[data.duplicated()].count()"
   ]
  },
  {
   "cell_type": "code",
   "execution_count": null,
   "metadata": {},
   "outputs": [],
   "source": []
  },
  {
   "cell_type": "code",
   "execution_count": null,
   "metadata": {},
   "outputs": [],
   "source": [
    "### 4) Quitar NaN y Duplicados"
   ]
  },
  {
   "cell_type": "code",
   "execution_count": 10,
   "metadata": {},
   "outputs": [],
   "source": [
    "datacorr=data.drop_duplicates().dropna()"
   ]
  },
  {
   "cell_type": "code",
   "execution_count": 16,
   "metadata": {},
   "outputs": [
    {
     "data": {
      "text/html": [
       "<div>\n",
       "<style scoped>\n",
       "    .dataframe tbody tr th:only-of-type {\n",
       "        vertical-align: middle;\n",
       "    }\n",
       "\n",
       "    .dataframe tbody tr th {\n",
       "        vertical-align: top;\n",
       "    }\n",
       "\n",
       "    .dataframe thead th {\n",
       "        text-align: right;\n",
       "    }\n",
       "</style>\n",
       "<table border=\"1\" class=\"dataframe\">\n",
       "  <thead>\n",
       "    <tr style=\"text-align: right;\">\n",
       "      <th></th>\n",
       "      <th>Fecha</th>\n",
       "      <th>variable</th>\n",
       "      <th>value</th>\n",
       "    </tr>\n",
       "  </thead>\n",
       "  <tbody>\n",
       "    <tr>\n",
       "      <th>1</th>\n",
       "      <td>1995-07-21</td>\n",
       "      <td>0</td>\n",
       "      <td>1.073</td>\n",
       "    </tr>\n",
       "    <tr>\n",
       "      <th>2</th>\n",
       "      <td>1995-07-22</td>\n",
       "      <td>0</td>\n",
       "      <td>1.073</td>\n",
       "    </tr>\n",
       "    <tr>\n",
       "      <th>3</th>\n",
       "      <td>1995-07-23</td>\n",
       "      <td>0</td>\n",
       "      <td>1.073</td>\n",
       "    </tr>\n",
       "    <tr>\n",
       "      <th>4</th>\n",
       "      <td>1995-07-24</td>\n",
       "      <td>0</td>\n",
       "      <td>1.000</td>\n",
       "    </tr>\n",
       "    <tr>\n",
       "      <th>5</th>\n",
       "      <td>1995-07-25</td>\n",
       "      <td>0</td>\n",
       "      <td>0.990</td>\n",
       "    </tr>\n",
       "  </tbody>\n",
       "</table>\n",
       "</div>"
      ],
      "text/plain": [
       "        Fecha variable  value\n",
       "1  1995-07-21        0  1.073\n",
       "2  1995-07-22        0  1.073\n",
       "3  1995-07-23        0  1.073\n",
       "4  1995-07-24        0  1.000\n",
       "5  1995-07-25        0  0.990"
      ]
     },
     "execution_count": 16,
     "metadata": {},
     "output_type": "execute_result"
    }
   ],
   "source": [
    "datacorr.head()"
   ]
  },
  {
   "cell_type": "code",
   "execution_count": 21,
   "metadata": {},
   "outputs": [
    {
     "data": {
      "text/plain": [
       "(199819, 3)"
      ]
     },
     "execution_count": 21,
     "metadata": {},
     "output_type": "execute_result"
    }
   ],
   "source": [
    "datacorr.shape"
   ]
  },
  {
   "cell_type": "code",
   "execution_count": null,
   "metadata": {},
   "outputs": [],
   "source": [
    "### 5) Precio promedio diario"
   ]
  },
  {
   "cell_type": "code",
   "execution_count": 11,
   "metadata": {},
   "outputs": [],
   "source": [
    "datacorr['mes'] = pd.DatetimeIndex(datacorr['Fecha']).month\n",
    "datacorr['dia'] = pd.DatetimeIndex(datacorr['Fecha']).day\n",
    "datacorr['año'] = pd.DatetimeIndex(datacorr['Fecha']).year\n",
    "datacorr['año-mes'] = datacorr['año'].map(str)+'-'+datacorr['mes'].map(str)"
   ]
  },
  {
   "cell_type": "code",
   "execution_count": 20,
   "metadata": {},
   "outputs": [
    {
     "data": {
      "text/html": [
       "<div>\n",
       "<style scoped>\n",
       "    .dataframe tbody tr th:only-of-type {\n",
       "        vertical-align: middle;\n",
       "    }\n",
       "\n",
       "    .dataframe tbody tr th {\n",
       "        vertical-align: top;\n",
       "    }\n",
       "\n",
       "    .dataframe thead th {\n",
       "        text-align: right;\n",
       "    }\n",
       "</style>\n",
       "<table border=\"1\" class=\"dataframe\">\n",
       "  <thead>\n",
       "    <tr style=\"text-align: right;\">\n",
       "      <th></th>\n",
       "      <th>Fecha</th>\n",
       "      <th>variable</th>\n",
       "      <th>value</th>\n",
       "      <th>mes</th>\n",
       "      <th>dia</th>\n",
       "      <th>año</th>\n",
       "      <th>año-mes</th>\n",
       "    </tr>\n",
       "  </thead>\n",
       "  <tbody>\n",
       "    <tr>\n",
       "      <th>1</th>\n",
       "      <td>1995-07-21</td>\n",
       "      <td>0</td>\n",
       "      <td>1.073</td>\n",
       "      <td>7</td>\n",
       "      <td>21</td>\n",
       "      <td>1995</td>\n",
       "      <td>1995-7</td>\n",
       "    </tr>\n",
       "    <tr>\n",
       "      <th>2</th>\n",
       "      <td>1995-07-22</td>\n",
       "      <td>0</td>\n",
       "      <td>1.073</td>\n",
       "      <td>7</td>\n",
       "      <td>22</td>\n",
       "      <td>1995</td>\n",
       "      <td>1995-7</td>\n",
       "    </tr>\n",
       "    <tr>\n",
       "      <th>3</th>\n",
       "      <td>1995-07-23</td>\n",
       "      <td>0</td>\n",
       "      <td>1.073</td>\n",
       "      <td>7</td>\n",
       "      <td>23</td>\n",
       "      <td>1995</td>\n",
       "      <td>1995-7</td>\n",
       "    </tr>\n",
       "    <tr>\n",
       "      <th>4</th>\n",
       "      <td>1995-07-24</td>\n",
       "      <td>0</td>\n",
       "      <td>1.000</td>\n",
       "      <td>7</td>\n",
       "      <td>24</td>\n",
       "      <td>1995</td>\n",
       "      <td>1995-7</td>\n",
       "    </tr>\n",
       "    <tr>\n",
       "      <th>5</th>\n",
       "      <td>1995-07-25</td>\n",
       "      <td>0</td>\n",
       "      <td>0.990</td>\n",
       "      <td>7</td>\n",
       "      <td>25</td>\n",
       "      <td>1995</td>\n",
       "      <td>1995-7</td>\n",
       "    </tr>\n",
       "  </tbody>\n",
       "</table>\n",
       "</div>"
      ],
      "text/plain": [
       "        Fecha variable  value  mes  dia   año año-mes\n",
       "1  1995-07-21        0  1.073    7   21  1995  1995-7\n",
       "2  1995-07-22        0  1.073    7   22  1995  1995-7\n",
       "3  1995-07-23        0  1.073    7   23  1995  1995-7\n",
       "4  1995-07-24        0  1.000    7   24  1995  1995-7\n",
       "5  1995-07-25        0  0.990    7   25  1995  1995-7"
      ]
     },
     "execution_count": 20,
     "metadata": {},
     "output_type": "execute_result"
    }
   ],
   "source": [
    "datacorr.head()"
   ]
  },
  {
   "cell_type": "code",
   "execution_count": 7,
   "metadata": {},
   "outputs": [
    {
     "data": {
      "text/plain": [
       "Fecha\n",
       "1996-02-01    13.903167\n",
       "1996-02-02    13.559000\n",
       "1996-02-03    14.524958\n",
       "1996-02-04     7.166917\n",
       "1996-02-05     8.333542\n",
       "Name: value, dtype: float64"
      ]
     },
     "execution_count": 7,
     "metadata": {},
     "output_type": "execute_result"
    }
   ],
   "source": [
    "PromFecha=datacorr.groupby('Fecha')['value'].mean()\n",
    "PromFecha.head()"
   ]
  },
  {
   "cell_type": "code",
   "execution_count": 22,
   "metadata": {},
   "outputs": [
    {
     "data": {
      "text/plain": [
       "<matplotlib.axes._subplots.AxesSubplot at 0x7fa1753451d0>"
      ]
     },
     "execution_count": 22,
     "metadata": {},
     "output_type": "execute_result"
    },
    {
     "data": {
      "image/png": "[encoded data removed]",
      "text/plain": [
       "<Figure size 432x288 with 1 Axes>"
      ]
     },
     "metadata": {
      "needs_background": "light"
     },
     "output_type": "display_data"
    }
   ],
   "source": [
    "PromFecha.plot()"
   ]
  },
  {
   "cell_type": "code",
   "execution_count": 12,
   "metadata": {},
   "outputs": [],
   "source": [
    "import matplotlib.pyplot as plt"
   ]
  },
  {
   "cell_type": "code",
   "execution_count": null,
   "metadata": {},
   "outputs": [],
   "source": [
    "## Gráfico por día para todos los años"
   ]
  },
  {
   "cell_type": "code",
   "execution_count": 23,
   "metadata": {},
   "outputs": [
    {
     "data": {
      "text/plain": [
       "[<matplotlib.lines.Line2D at 0x7fa1753eea58>]"
      ]
     },
     "execution_count": 23,
     "metadata": {},
     "output_type": "execute_result"
    },
    {
     "data": {
      "image/png": "[encoded data removed]",
      "text/plain": [
       "<Figure size 432x288 with 1 Axes>"
      ]
     },
     "metadata": {
      "needs_background": "light"
     },
     "output_type": "display_data"
    }
   ],
   "source": [
    "plt.plot(PromFecha)"
   ]
  },
  {
   "cell_type": "code",
   "execution_count": null,
   "metadata": {},
   "outputs": [],
   "source": [
    "## Gráfico por día (juntando años)"
   ]
  },
  {
   "cell_type": "code",
   "execution_count": 9,
   "metadata": {},
   "outputs": [
    {
     "data": {
      "text/plain": [
       "dia\n",
       "1    107.854329\n",
       "2    108.913259\n",
       "3    110.298928\n",
       "4    111.968630\n",
       "5    111.388790\n",
       "Name: value, dtype: float64"
      ]
     },
     "execution_count": 9,
     "metadata": {},
     "output_type": "execute_result"
    }
   ],
   "source": [
    "PromDia=datacorr.groupby('dia')['value'].mean()\n",
    "PromDia.head()"
   ]
  },
  {
   "cell_type": "code",
   "execution_count": 25,
   "metadata": {},
   "outputs": [
    {
     "data": {
      "text/plain": [
       "<matplotlib.axes._subplots.AxesSubplot at 0x7fa171b515f8>"
      ]
     },
     "execution_count": 25,
     "metadata": {},
     "output_type": "execute_result"
    },
    {
     "data": {
      "image/png": "[encoded data removed]",
      "text/plain": [
       "<Figure size 432x288 with 1 Axes>"
      ]
     },
     "metadata": {
      "needs_background": "light"
     },
     "output_type": "display_data"
    }
   ],
   "source": [
    "PromDia.plot(kind='bar')"
   ]
  },
  {
   "cell_type": "code",
   "execution_count": null,
   "metadata": {},
   "outputs": [],
   "source": [
    "### 6) Precio máx por mes"
   ]
  },
  {
   "cell_type": "code",
   "execution_count": 26,
   "metadata": {},
   "outputs": [
    {
     "data": {
      "text/plain": [
       "año-mes\n",
       "1995-10     33.700\n",
       "1995-11    111.907\n",
       "1995-12    179.730\n",
       "1995-7      22.500\n",
       "1995-8      40.000\n",
       "Name: value, dtype: float64"
      ]
     },
     "execution_count": 26,
     "metadata": {},
     "output_type": "execute_result"
    }
   ],
   "source": [
    "MaxAñoMes=datacorr.groupby('año-mes')['value'].max()\n",
    "MaxAñoMes.head()"
   ]
  },
  {
   "cell_type": "code",
   "execution_count": 89,
   "metadata": {},
   "outputs": [
    {
     "data": {
      "text/plain": [
       "[<matplotlib.lines.Line2D at 0x7f6a794e4128>]"
      ]
     },
     "execution_count": 89,
     "metadata": {},
     "output_type": "execute_result"
    },
    {
     "data": {
      "image/png": "[encoded data removed]",
      "text/plain": [
       "<Figure size 432x288 with 1 Axes>"
      ]
     },
     "metadata": {
      "needs_background": "light"
     },
     "output_type": "display_data"
    }
   ],
   "source": [
    "plt.plot(MaxAñoMes)"
   ]
  },
  {
   "cell_type": "code",
   "execution_count": 86,
   "metadata": {},
   "outputs": [
    {
     "data": {
      "text/plain": [
       "mes\n",
       "1    865.477082\n",
       "2    869.442024\n",
       "3    884.836657\n",
       "4    807.500399\n",
       "5    686.494571\n",
       "Name: value, dtype: float64"
      ]
     },
     "execution_count": 86,
     "metadata": {},
     "output_type": "execute_result"
    }
   ],
   "source": [
    "MaxMes=datacorr.groupby('mes')['value'].max()\n",
    "MaxMes.head()"
   ]
  },
  {
   "cell_type": "code",
   "execution_count": 87,
   "metadata": {},
   "outputs": [
    {
     "data": {
      "text/plain": [
       "<matplotlib.axes._subplots.AxesSubplot at 0x7f6a794816a0>"
      ]
     },
     "execution_count": 87,
     "metadata": {},
     "output_type": "execute_result"
    },
    {
     "data": {
      "image/png": "[encoded data removed]",
      "text/plain": [
       "<Figure size 432x288 with 1 Axes>"
      ]
     },
     "metadata": {
      "needs_background": "light"
     },
     "output_type": "display_data"
    }
   ],
   "source": [
    "MaxMes.plot(kind='bar')"
   ]
  },
  {
   "cell_type": "code",
   "execution_count": null,
   "metadata": {},
   "outputs": [],
   "source": [
    "### 7) Precio mín mensual"
   ]
  },
  {
   "cell_type": "code",
   "execution_count": 90,
   "metadata": {},
   "outputs": [
    {
     "data": {
      "text/plain": [
       "mes\n",
       "1    1.073\n",
       "2    1.076\n",
       "3    1.255\n",
       "4    1.254\n",
       "5    0.000\n",
       "Name: value, dtype: float64"
      ]
     },
     "execution_count": 90,
     "metadata": {},
     "output_type": "execute_result"
    }
   ],
   "source": [
    "MinMes=datacorr.groupby('mes')['value'].min()\n",
    "MinMes.head()"
   ]
  },
  {
   "cell_type": "code",
   "execution_count": 91,
   "metadata": {},
   "outputs": [
    {
     "data": {
      "text/plain": [
       "<matplotlib.axes._subplots.AxesSubplot at 0x7f6a785e2ba8>"
      ]
     },
     "execution_count": 91,
     "metadata": {},
     "output_type": "execute_result"
    },
    {
     "data": {
      "image/png": "[encoded data removed]",
      "text/plain": [
       "<Figure size 432x288 with 1 Axes>"
      ]
     },
     "metadata": {
      "needs_background": "light"
     },
     "output_type": "display_data"
    }
   ],
   "source": [
    "MinMes.plot(kind='bar')"
   ]
  },
  {
   "cell_type": "code",
   "execution_count": null,
   "metadata": {},
   "outputs": [],
   "source": [
    "##8) Gráfico promedio mes y máx mes"
   ]
  },
  {
   "cell_type": "code",
   "execution_count": 92,
   "metadata": {},
   "outputs": [
    {
     "data": {
      "text/plain": [
       "mes\n",
       "1    111.924490\n",
       "2    125.139288\n",
       "3    125.732944\n",
       "4    106.910424\n",
       "5     91.602250\n",
       "Name: value, dtype: float64"
      ]
     },
     "execution_count": 92,
     "metadata": {},
     "output_type": "execute_result"
    }
   ],
   "source": [
    "PromMes=datacorr.groupby('mes')['value'].mean()\n",
    "PromMes.head()"
   ]
  },
  {
   "cell_type": "code",
   "execution_count": 98,
   "metadata": {},
   "outputs": [
    {
     "data": {
      "text/plain": [
       "<matplotlib.legend.Legend at 0x7f6a78358d30>"
      ]
     },
     "execution_count": 98,
     "metadata": {},
     "output_type": "execute_result"
    },
    {
     "data": {
      "image/png": "[encoded data removed]",
      "text/plain": [
       "<Figure size 432x288 with 1 Axes>"
      ]
     },
     "metadata": {
      "needs_background": "light"
     },
     "output_type": "display_data"
    }
   ],
   "source": [
    "fig = plt.plot(MaxMes, label='Máx')\n",
    "plt.plot(PromMes, label='Promedio')\n",
    "plt.legend(bbox_to_anchor=(1.05, 1), loc=2, borderaxespad=0.)"
   ]
  },
  {
   "cell_type": "code",
   "execution_count": null,
   "metadata": {},
   "outputs": [],
   "source": [
    "## 9) Histograma días laborales"
   ]
  },
  {
   "cell_type": "code",
   "execution_count": 13,
   "metadata": {},
   "outputs": [],
   "source": [
    "datacorr['diasemana']=pd.DatetimeIndex(datacorr['Fecha']).dayofweek"
   ]
  },
  {
   "cell_type": "code",
   "execution_count": 14,
   "metadata": {},
   "outputs": [],
   "source": [
    "laborales=datacorr[datacorr['diasemana']<5]"
   ]
  },
  {
   "cell_type": "code",
   "execution_count": 15,
   "metadata": {},
   "outputs": [
    {
     "data": {
      "text/html": [
       "<div>\n",
       "<style scoped>\n",
       "    .dataframe tbody tr th:only-of-type {\n",
       "        vertical-align: middle;\n",
       "    }\n",
       "\n",
       "    .dataframe tbody tr th {\n",
       "        vertical-align: top;\n",
       "    }\n",
       "\n",
       "    .dataframe thead th {\n",
       "        text-align: right;\n",
       "    }\n",
       "</style>\n",
       "<table border=\"1\" class=\"dataframe\">\n",
       "  <thead>\n",
       "    <tr style=\"text-align: right;\">\n",
       "      <th></th>\n",
       "      <th>Fecha</th>\n",
       "      <th>variable</th>\n",
       "      <th>value</th>\n",
       "      <th>mes</th>\n",
       "      <th>dia</th>\n",
       "      <th>año</th>\n",
       "      <th>año-mes</th>\n",
       "      <th>diasemana</th>\n",
       "    </tr>\n",
       "  </thead>\n",
       "  <tbody>\n",
       "    <tr>\n",
       "      <th>1</th>\n",
       "      <td>1995-07-21</td>\n",
       "      <td>0</td>\n",
       "      <td>1.073</td>\n",
       "      <td>7</td>\n",
       "      <td>21</td>\n",
       "      <td>1995</td>\n",
       "      <td>1995-7</td>\n",
       "      <td>4</td>\n",
       "    </tr>\n",
       "    <tr>\n",
       "      <th>4</th>\n",
       "      <td>1995-07-24</td>\n",
       "      <td>0</td>\n",
       "      <td>1.000</td>\n",
       "      <td>7</td>\n",
       "      <td>24</td>\n",
       "      <td>1995</td>\n",
       "      <td>1995-7</td>\n",
       "      <td>0</td>\n",
       "    </tr>\n",
       "    <tr>\n",
       "      <th>5</th>\n",
       "      <td>1995-07-25</td>\n",
       "      <td>0</td>\n",
       "      <td>0.990</td>\n",
       "      <td>7</td>\n",
       "      <td>25</td>\n",
       "      <td>1995</td>\n",
       "      <td>1995-7</td>\n",
       "      <td>1</td>\n",
       "    </tr>\n",
       "    <tr>\n",
       "      <th>6</th>\n",
       "      <td>1995-07-26</td>\n",
       "      <td>0</td>\n",
       "      <td>0.500</td>\n",
       "      <td>7</td>\n",
       "      <td>26</td>\n",
       "      <td>1995</td>\n",
       "      <td>1995-7</td>\n",
       "      <td>2</td>\n",
       "    </tr>\n",
       "    <tr>\n",
       "      <th>7</th>\n",
       "      <td>1995-07-27</td>\n",
       "      <td>0</td>\n",
       "      <td>0.500</td>\n",
       "      <td>7</td>\n",
       "      <td>27</td>\n",
       "      <td>1995</td>\n",
       "      <td>1995-7</td>\n",
       "      <td>3</td>\n",
       "    </tr>\n",
       "    <tr>\n",
       "      <th>8</th>\n",
       "      <td>1995-07-28</td>\n",
       "      <td>0</td>\n",
       "      <td>0.000</td>\n",
       "      <td>7</td>\n",
       "      <td>28</td>\n",
       "      <td>1995</td>\n",
       "      <td>1995-7</td>\n",
       "      <td>4</td>\n",
       "    </tr>\n",
       "    <tr>\n",
       "      <th>11</th>\n",
       "      <td>1995-07-31</td>\n",
       "      <td>0</td>\n",
       "      <td>0.000</td>\n",
       "      <td>7</td>\n",
       "      <td>31</td>\n",
       "      <td>1995</td>\n",
       "      <td>1995-7</td>\n",
       "      <td>0</td>\n",
       "    </tr>\n",
       "    <tr>\n",
       "      <th>12</th>\n",
       "      <td>1995-08-01</td>\n",
       "      <td>0</td>\n",
       "      <td>0.000</td>\n",
       "      <td>8</td>\n",
       "      <td>1</td>\n",
       "      <td>1995</td>\n",
       "      <td>1995-8</td>\n",
       "      <td>1</td>\n",
       "    </tr>\n",
       "    <tr>\n",
       "      <th>13</th>\n",
       "      <td>1995-08-02</td>\n",
       "      <td>0</td>\n",
       "      <td>1.073</td>\n",
       "      <td>8</td>\n",
       "      <td>2</td>\n",
       "      <td>1995</td>\n",
       "      <td>1995-8</td>\n",
       "      <td>2</td>\n",
       "    </tr>\n",
       "    <tr>\n",
       "      <th>14</th>\n",
       "      <td>1995-08-03</td>\n",
       "      <td>0</td>\n",
       "      <td>1.073</td>\n",
       "      <td>8</td>\n",
       "      <td>3</td>\n",
       "      <td>1995</td>\n",
       "      <td>1995-8</td>\n",
       "      <td>3</td>\n",
       "    </tr>\n",
       "  </tbody>\n",
       "</table>\n",
       "</div>"
      ],
      "text/plain": [
       "         Fecha variable  value  mes  dia   año año-mes  diasemana\n",
       "1   1995-07-21        0  1.073    7   21  1995  1995-7          4\n",
       "4   1995-07-24        0  1.000    7   24  1995  1995-7          0\n",
       "5   1995-07-25        0  0.990    7   25  1995  1995-7          1\n",
       "6   1995-07-26        0  0.500    7   26  1995  1995-7          2\n",
       "7   1995-07-27        0  0.500    7   27  1995  1995-7          3\n",
       "8   1995-07-28        0  0.000    7   28  1995  1995-7          4\n",
       "11  1995-07-31        0  0.000    7   31  1995  1995-7          0\n",
       "12  1995-08-01        0  0.000    8    1  1995  1995-8          1\n",
       "13  1995-08-02        0  1.073    8    2  1995  1995-8          2\n",
       "14  1995-08-03        0  1.073    8    3  1995  1995-8          3"
      ]
     },
     "execution_count": 15,
     "metadata": {},
     "output_type": "execute_result"
    }
   ],
   "source": [
    "laborales.head(10)"
   ]
  },
  {
   "cell_type": "code",
   "execution_count": 23,
   "metadata": {},
   "outputs": [],
   "source": [
    "# maxlaboralesfecha=laborales.groupby('Fecha')['value'].max()\n",
    "# maxlaboralesfecha.head()"
   ]
  },
  {
   "cell_type": "code",
   "execution_count": 160,
   "metadata": {},
   "outputs": [],
   "source": [
    "# maxlaboralesfecha.plot(kind='bar')"
   ]
  },
  {
   "cell_type": "code",
   "execution_count": 161,
   "metadata": {},
   "outputs": [],
   "source": [
    "# plt.hist(maxlaboralesfecha)"
   ]
  },
  {
   "cell_type": "code",
   "execution_count": 21,
   "metadata": {},
   "outputs": [],
   "source": [
    "# maxlaboralesfecha.plot(kind='hist')"
   ]
  },
  {
   "cell_type": "code",
   "execution_count": 163,
   "metadata": {},
   "outputs": [],
   "source": [
    "# maxlaboralesdiasemana=laborales.groupby('diasemana')['value'].max()\n",
    "# maxlaboralesdiasemana.head()"
   ]
  },
  {
   "cell_type": "code",
   "execution_count": 164,
   "metadata": {},
   "outputs": [],
   "source": [
    "# maxlaboralesdiasemana.plot(kind='bar')"
   ]
  },
  {
   "cell_type": "code",
   "execution_count": 165,
   "metadata": {},
   "outputs": [],
   "source": [
    "# maxlaboralesdia=laborales.groupby('dia')['value'].max()\n",
    "# maxlaboralesdia.head()"
   ]
  },
  {
   "cell_type": "code",
   "execution_count": 166,
   "metadata": {},
   "outputs": [],
   "source": [
    "# maxlaboralesdia.plot(kind='bar')"
   ]
  },
  {
   "cell_type": "code",
   "execution_count": 167,
   "metadata": {},
   "outputs": [],
   "source": [
    "# maxlaboralesdia.plot(kind='hist')"
   ]
  },
  {
   "cell_type": "code",
   "execution_count": 16,
   "metadata": {},
   "outputs": [
    {
     "data": {
      "text/plain": [
       "Fecha\n",
       "1996-02-01    26.50\n",
       "1996-02-02    28.00\n",
       "1996-02-05    16.00\n",
       "1996-02-06    13.55\n",
       "1996-02-07    11.10\n",
       "Name: value, dtype: float64"
      ]
     },
     "execution_count": 16,
     "metadata": {},
     "output_type": "execute_result"
    }
   ],
   "source": [
    "aux2=laborales.groupby('Fecha')['value'].max()\n",
    "aux2.head()"
   ]
  },
  {
   "cell_type": "code",
   "execution_count": 17,
   "metadata": {},
   "outputs": [
    {
     "data": {
      "text/html": [
       "<div>\n",
       "<style scoped>\n",
       "    .dataframe tbody tr th:only-of-type {\n",
       "        vertical-align: middle;\n",
       "    }\n",
       "\n",
       "    .dataframe tbody tr th {\n",
       "        vertical-align: top;\n",
       "    }\n",
       "\n",
       "    .dataframe thead th {\n",
       "        text-align: right;\n",
       "    }\n",
       "</style>\n",
       "<table border=\"1\" class=\"dataframe\">\n",
       "  <thead>\n",
       "    <tr style=\"text-align: right;\">\n",
       "      <th></th>\n",
       "      <th>Fecha</th>\n",
       "      <th>PrecioMax</th>\n",
       "    </tr>\n",
       "  </thead>\n",
       "  <tbody>\n",
       "    <tr>\n",
       "      <th>0</th>\n",
       "      <td>1996-02-01</td>\n",
       "      <td>26.50</td>\n",
       "    </tr>\n",
       "    <tr>\n",
       "      <th>1</th>\n",
       "      <td>1996-02-02</td>\n",
       "      <td>28.00</td>\n",
       "    </tr>\n",
       "    <tr>\n",
       "      <th>2</th>\n",
       "      <td>1996-02-05</td>\n",
       "      <td>16.00</td>\n",
       "    </tr>\n",
       "    <tr>\n",
       "      <th>3</th>\n",
       "      <td>1996-02-06</td>\n",
       "      <td>13.55</td>\n",
       "    </tr>\n",
       "    <tr>\n",
       "      <th>4</th>\n",
       "      <td>1996-02-07</td>\n",
       "      <td>11.10</td>\n",
       "    </tr>\n",
       "  </tbody>\n",
       "</table>\n",
       "</div>"
      ],
      "text/plain": [
       "       Fecha  PrecioMax\n",
       "0 1996-02-01      26.50\n",
       "1 1996-02-02      28.00\n",
       "2 1996-02-05      16.00\n",
       "3 1996-02-06      13.55\n",
       "4 1996-02-07      11.10"
      ]
     },
     "execution_count": 17,
     "metadata": {},
     "output_type": "execute_result"
    }
   ],
   "source": [
    "aux3 = pd.DataFrame({'Fecha':aux2.index, 'PrecioMax':aux2.values})\n",
    "aux3.head()"
   ]
  },
  {
   "cell_type": "code",
   "execution_count": 18,
   "metadata": {},
   "outputs": [
    {
     "data": {
      "text/html": [
       "<div>\n",
       "<style scoped>\n",
       "    .dataframe tbody tr th:only-of-type {\n",
       "        vertical-align: middle;\n",
       "    }\n",
       "\n",
       "    .dataframe tbody tr th {\n",
       "        vertical-align: top;\n",
       "    }\n",
       "\n",
       "    .dataframe thead th {\n",
       "        text-align: right;\n",
       "    }\n",
       "</style>\n",
       "<table border=\"1\" class=\"dataframe\">\n",
       "  <thead>\n",
       "    <tr style=\"text-align: right;\">\n",
       "      <th></th>\n",
       "      <th>Fecha</th>\n",
       "      <th>variable</th>\n",
       "      <th>value</th>\n",
       "      <th>mes</th>\n",
       "      <th>dia</th>\n",
       "      <th>año</th>\n",
       "      <th>año-mes</th>\n",
       "      <th>diasemana</th>\n",
       "    </tr>\n",
       "  </thead>\n",
       "  <tbody>\n",
       "    <tr>\n",
       "      <th>1</th>\n",
       "      <td>1995-07-21</td>\n",
       "      <td>0</td>\n",
       "      <td>1.073</td>\n",
       "      <td>7</td>\n",
       "      <td>21</td>\n",
       "      <td>1995</td>\n",
       "      <td>1995-7</td>\n",
       "      <td>4</td>\n",
       "    </tr>\n",
       "    <tr>\n",
       "      <th>4</th>\n",
       "      <td>1995-07-24</td>\n",
       "      <td>0</td>\n",
       "      <td>1.000</td>\n",
       "      <td>7</td>\n",
       "      <td>24</td>\n",
       "      <td>1995</td>\n",
       "      <td>1995-7</td>\n",
       "      <td>0</td>\n",
       "    </tr>\n",
       "    <tr>\n",
       "      <th>5</th>\n",
       "      <td>1995-07-25</td>\n",
       "      <td>0</td>\n",
       "      <td>0.990</td>\n",
       "      <td>7</td>\n",
       "      <td>25</td>\n",
       "      <td>1995</td>\n",
       "      <td>1995-7</td>\n",
       "      <td>1</td>\n",
       "    </tr>\n",
       "    <tr>\n",
       "      <th>6</th>\n",
       "      <td>1995-07-26</td>\n",
       "      <td>0</td>\n",
       "      <td>0.500</td>\n",
       "      <td>7</td>\n",
       "      <td>26</td>\n",
       "      <td>1995</td>\n",
       "      <td>1995-7</td>\n",
       "      <td>2</td>\n",
       "    </tr>\n",
       "    <tr>\n",
       "      <th>7</th>\n",
       "      <td>1995-07-27</td>\n",
       "      <td>0</td>\n",
       "      <td>0.500</td>\n",
       "      <td>7</td>\n",
       "      <td>27</td>\n",
       "      <td>1995</td>\n",
       "      <td>1995-7</td>\n",
       "      <td>3</td>\n",
       "    </tr>\n",
       "  </tbody>\n",
       "</table>\n",
       "</div>"
      ],
      "text/plain": [
       "       Fecha variable  value  mes  dia   año año-mes  diasemana\n",
       "1 1995-07-21        0  1.073    7   21  1995  1995-7          4\n",
       "4 1995-07-24        0  1.000    7   24  1995  1995-7          0\n",
       "5 1995-07-25        0  0.990    7   25  1995  1995-7          1\n",
       "6 1995-07-26        0  0.500    7   26  1995  1995-7          2\n",
       "7 1995-07-27        0  0.500    7   27  1995  1995-7          3"
      ]
     },
     "execution_count": 18,
     "metadata": {},
     "output_type": "execute_result"
    }
   ],
   "source": [
    "aux=laborales.copy()\n",
    "aux['Fecha'] = pd.to_datetime(aux['Fecha'])\n",
    "aux.head()"
   ]
  },
  {
   "cell_type": "code",
   "execution_count": 19,
   "metadata": {},
   "outputs": [
    {
     "data": {
      "text/html": [
       "<div>\n",
       "<style scoped>\n",
       "    .dataframe tbody tr th:only-of-type {\n",
       "        vertical-align: middle;\n",
       "    }\n",
       "\n",
       "    .dataframe tbody tr th {\n",
       "        vertical-align: top;\n",
       "    }\n",
       "\n",
       "    .dataframe thead th {\n",
       "        text-align: right;\n",
       "    }\n",
       "</style>\n",
       "<table border=\"1\" class=\"dataframe\">\n",
       "  <thead>\n",
       "    <tr style=\"text-align: right;\">\n",
       "      <th></th>\n",
       "      <th>Fecha</th>\n",
       "      <th>variable</th>\n",
       "      <th>value</th>\n",
       "      <th>mes</th>\n",
       "      <th>dia</th>\n",
       "      <th>año</th>\n",
       "      <th>año-mes</th>\n",
       "      <th>diasemana</th>\n",
       "      <th>PrecioMax</th>\n",
       "    </tr>\n",
       "  </thead>\n",
       "  <tbody>\n",
       "    <tr>\n",
       "      <th>0</th>\n",
       "      <td>1995-07-21</td>\n",
       "      <td>0</td>\n",
       "      <td>1.073</td>\n",
       "      <td>7</td>\n",
       "      <td>21</td>\n",
       "      <td>1995</td>\n",
       "      <td>1995-7</td>\n",
       "      <td>4</td>\n",
       "      <td>16.67</td>\n",
       "    </tr>\n",
       "    <tr>\n",
       "      <th>1</th>\n",
       "      <td>1995-07-21</td>\n",
       "      <td>1</td>\n",
       "      <td>1.000</td>\n",
       "      <td>7</td>\n",
       "      <td>21</td>\n",
       "      <td>1995</td>\n",
       "      <td>1995-7</td>\n",
       "      <td>4</td>\n",
       "      <td>16.67</td>\n",
       "    </tr>\n",
       "    <tr>\n",
       "      <th>2</th>\n",
       "      <td>1995-07-21</td>\n",
       "      <td>10</td>\n",
       "      <td>6.000</td>\n",
       "      <td>7</td>\n",
       "      <td>21</td>\n",
       "      <td>1995</td>\n",
       "      <td>1995-7</td>\n",
       "      <td>4</td>\n",
       "      <td>16.67</td>\n",
       "    </tr>\n",
       "    <tr>\n",
       "      <th>3</th>\n",
       "      <td>1995-07-21</td>\n",
       "      <td>11</td>\n",
       "      <td>9.256</td>\n",
       "      <td>7</td>\n",
       "      <td>21</td>\n",
       "      <td>1995</td>\n",
       "      <td>1995-7</td>\n",
       "      <td>4</td>\n",
       "      <td>16.67</td>\n",
       "    </tr>\n",
       "    <tr>\n",
       "      <th>4</th>\n",
       "      <td>1995-07-21</td>\n",
       "      <td>12</td>\n",
       "      <td>9.256</td>\n",
       "      <td>7</td>\n",
       "      <td>21</td>\n",
       "      <td>1995</td>\n",
       "      <td>1995-7</td>\n",
       "      <td>4</td>\n",
       "      <td>16.67</td>\n",
       "    </tr>\n",
       "  </tbody>\n",
       "</table>\n",
       "</div>"
      ],
      "text/plain": [
       "       Fecha variable  value  mes  dia   año año-mes  diasemana  PrecioMax\n",
       "0 1995-07-21        0  1.073    7   21  1995  1995-7          4      16.67\n",
       "1 1995-07-21        1  1.000    7   21  1995  1995-7          4      16.67\n",
       "2 1995-07-21       10  6.000    7   21  1995  1995-7          4      16.67\n",
       "3 1995-07-21       11  9.256    7   21  1995  1995-7          4      16.67\n",
       "4 1995-07-21       12  9.256    7   21  1995  1995-7          4      16.67"
      ]
     },
     "execution_count": 19,
     "metadata": {},
     "output_type": "execute_result"
    }
   ],
   "source": [
    "aux5 = pd.merge(aux, aux3, on=['Fecha'], how='inner')\n",
    "aux5.head()"
   ]
  },
  {
   "cell_type": "code",
   "execution_count": 20,
   "metadata": {},
   "outputs": [
    {
     "data": {
      "text/html": [
       "<div>\n",
       "<style scoped>\n",
       "    .dataframe tbody tr th:only-of-type {\n",
       "        vertical-align: middle;\n",
       "    }\n",
       "\n",
       "    .dataframe tbody tr th {\n",
       "        vertical-align: top;\n",
       "    }\n",
       "\n",
       "    .dataframe thead th {\n",
       "        text-align: right;\n",
       "    }\n",
       "</style>\n",
       "<table border=\"1\" class=\"dataframe\">\n",
       "  <thead>\n",
       "    <tr style=\"text-align: right;\">\n",
       "      <th></th>\n",
       "      <th>Fecha</th>\n",
       "      <th>variable</th>\n",
       "      <th>value</th>\n",
       "      <th>mes</th>\n",
       "      <th>dia</th>\n",
       "      <th>año</th>\n",
       "      <th>año-mes</th>\n",
       "      <th>diasemana</th>\n",
       "      <th>PrecioMax</th>\n",
       "    </tr>\n",
       "  </thead>\n",
       "  <tbody>\n",
       "    <tr>\n",
       "      <th>11</th>\n",
       "      <td>1995-07-21</td>\n",
       "      <td>19</td>\n",
       "      <td>16.67</td>\n",
       "      <td>7</td>\n",
       "      <td>21</td>\n",
       "      <td>1995</td>\n",
       "      <td>1995-7</td>\n",
       "      <td>4</td>\n",
       "      <td>16.67</td>\n",
       "    </tr>\n",
       "    <tr>\n",
       "      <th>35</th>\n",
       "      <td>1995-07-24</td>\n",
       "      <td>19</td>\n",
       "      <td>22.50</td>\n",
       "      <td>7</td>\n",
       "      <td>24</td>\n",
       "      <td>1995</td>\n",
       "      <td>1995-7</td>\n",
       "      <td>0</td>\n",
       "      <td>22.50</td>\n",
       "    </tr>\n",
       "    <tr>\n",
       "      <th>59</th>\n",
       "      <td>1995-07-25</td>\n",
       "      <td>19</td>\n",
       "      <td>1.50</td>\n",
       "      <td>7</td>\n",
       "      <td>25</td>\n",
       "      <td>1995</td>\n",
       "      <td>1995-7</td>\n",
       "      <td>1</td>\n",
       "      <td>1.50</td>\n",
       "    </tr>\n",
       "    <tr>\n",
       "      <th>83</th>\n",
       "      <td>1995-07-26</td>\n",
       "      <td>19</td>\n",
       "      <td>8.00</td>\n",
       "      <td>7</td>\n",
       "      <td>26</td>\n",
       "      <td>1995</td>\n",
       "      <td>1995-7</td>\n",
       "      <td>2</td>\n",
       "      <td>8.00</td>\n",
       "    </tr>\n",
       "    <tr>\n",
       "      <th>107</th>\n",
       "      <td>1995-07-27</td>\n",
       "      <td>19</td>\n",
       "      <td>1.50</td>\n",
       "      <td>7</td>\n",
       "      <td>27</td>\n",
       "      <td>1995</td>\n",
       "      <td>1995-7</td>\n",
       "      <td>3</td>\n",
       "      <td>1.50</td>\n",
       "    </tr>\n",
       "  </tbody>\n",
       "</table>\n",
       "</div>"
      ],
      "text/plain": [
       "         Fecha variable  value  mes  dia   año año-mes  diasemana  PrecioMax\n",
       "11  1995-07-21       19  16.67    7   21  1995  1995-7          4      16.67\n",
       "35  1995-07-24       19  22.50    7   24  1995  1995-7          0      22.50\n",
       "59  1995-07-25       19   1.50    7   25  1995  1995-7          1       1.50\n",
       "83  1995-07-26       19   8.00    7   26  1995  1995-7          2       8.00\n",
       "107 1995-07-27       19   1.50    7   27  1995  1995-7          3       1.50"
      ]
     },
     "execution_count": 20,
     "metadata": {},
     "output_type": "execute_result"
    }
   ],
   "source": [
    "auxMax=aux5[aux5['value']==aux5['PrecioMax']]\n",
    "auxMax.head()"
   ]
  },
  {
   "cell_type": "code",
   "execution_count": 26,
   "metadata": {},
   "outputs": [
    {
     "data": {
      "text/plain": [
       "11     19\n",
       "35     19\n",
       "59     19\n",
       "83     19\n",
       "107    19\n",
       "Name: variable, dtype: object"
      ]
     },
     "execution_count": 26,
     "metadata": {},
     "output_type": "execute_result"
    }
   ],
   "source": [
    "a=auxMax['variable']\n",
    "a.head()"
   ]
  },
  {
   "cell_type": "code",
   "execution_count": 91,
   "metadata": {},
   "outputs": [],
   "source": [
    "alist=sorted(map(int,a.tolist()))"
   ]
  },
  {
   "cell_type": "code",
   "execution_count": 92,
   "metadata": {},
   "outputs": [
    {
     "data": {
      "text/plain": [
       "(array([  41.,   29.,   25.,   20.,   31.,   92.,  134.,  164.,  293.,\n",
       "         397.,  653., 1039.,  607.,  555.,  774.,  716.,  517.,  422.,\n",
       "        2776., 5022., 1660.,  619.,  147.,   41.]),\n",
       " array([ 0.        ,  0.95833333,  1.91666667,  2.875     ,  3.83333333,\n",
       "         4.79166667,  5.75      ,  6.70833333,  7.66666667,  8.625     ,\n",
       "         9.58333333, 10.54166667, 11.5       , 12.45833333, 13.41666667,\n",
       "        14.375     , 15.33333333, 16.29166667, 17.25      , 18.20833333,\n",
       "        19.16666667, 20.125     , 21.08333333, 22.04166667, 23.        ]),\n",
       " <a list of 24 Patch objects>)"
      ]
     },
     "execution_count": 92,
     "metadata": {},
     "output_type": "execute_result"
    },
    {
     "data": {
      "image/png": "[encoded data removed]",
      "text/plain": [
       "<Figure size 432x288 with 1 Axes>"
      ]
     },
     "metadata": {
      "needs_background": "light"
     },
     "output_type": "display_data"
    }
   ],
   "source": [
    "plt.hist(alist, bins=24)"
   ]
  },
  {
   "cell_type": "code",
   "execution_count": 56,
   "metadata": {},
   "outputs": [],
   "source": [
    "# HoraCount=a.groupby(a).count()\n",
    "# HoraCount.head()"
   ]
  },
  {
   "cell_type": "code",
   "execution_count": null,
   "metadata": {},
   "outputs": [],
   "source": [
    "## 10) Haga un histograma que muestre a que horas se produce \n",
    "##     el máximo precio diario para los días sabado."
   ]
  },
  {
   "cell_type": "code",
   "execution_count": 94,
   "metadata": {},
   "outputs": [],
   "source": [
    "sabados=datacorr[datacorr['diasemana']==5]"
   ]
  },
  {
   "cell_type": "code",
   "execution_count": 95,
   "metadata": {},
   "outputs": [
    {
     "data": {
      "text/plain": [
       "Fecha\n",
       "1996-02-03    25.0\n",
       "1996-02-10    14.0\n",
       "1996-02-17    11.5\n",
       "1996-02-24    12.0\n",
       "1996-03-02    14.5\n",
       "Name: value, dtype: float64"
      ]
     },
     "execution_count": 95,
     "metadata": {},
     "output_type": "execute_result"
    }
   ],
   "source": [
    "aux2=sabados.groupby('Fecha')['value'].max()\n",
    "aux2.head()"
   ]
  },
  {
   "cell_type": "code",
   "execution_count": 96,
   "metadata": {},
   "outputs": [
    {
     "data": {
      "text/html": [
       "<div>\n",
       "<style scoped>\n",
       "    .dataframe tbody tr th:only-of-type {\n",
       "        vertical-align: middle;\n",
       "    }\n",
       "\n",
       "    .dataframe tbody tr th {\n",
       "        vertical-align: top;\n",
       "    }\n",
       "\n",
       "    .dataframe thead th {\n",
       "        text-align: right;\n",
       "    }\n",
       "</style>\n",
       "<table border=\"1\" class=\"dataframe\">\n",
       "  <thead>\n",
       "    <tr style=\"text-align: right;\">\n",
       "      <th></th>\n",
       "      <th>Fecha</th>\n",
       "      <th>PrecioMax</th>\n",
       "    </tr>\n",
       "  </thead>\n",
       "  <tbody>\n",
       "    <tr>\n",
       "      <th>0</th>\n",
       "      <td>1996-02-03</td>\n",
       "      <td>25.0</td>\n",
       "    </tr>\n",
       "    <tr>\n",
       "      <th>1</th>\n",
       "      <td>1996-02-10</td>\n",
       "      <td>14.0</td>\n",
       "    </tr>\n",
       "    <tr>\n",
       "      <th>2</th>\n",
       "      <td>1996-02-17</td>\n",
       "      <td>11.5</td>\n",
       "    </tr>\n",
       "    <tr>\n",
       "      <th>3</th>\n",
       "      <td>1996-02-24</td>\n",
       "      <td>12.0</td>\n",
       "    </tr>\n",
       "    <tr>\n",
       "      <th>4</th>\n",
       "      <td>1996-03-02</td>\n",
       "      <td>14.5</td>\n",
       "    </tr>\n",
       "  </tbody>\n",
       "</table>\n",
       "</div>"
      ],
      "text/plain": [
       "       Fecha  PrecioMax\n",
       "0 1996-02-03       25.0\n",
       "1 1996-02-10       14.0\n",
       "2 1996-02-17       11.5\n",
       "3 1996-02-24       12.0\n",
       "4 1996-03-02       14.5"
      ]
     },
     "execution_count": 96,
     "metadata": {},
     "output_type": "execute_result"
    }
   ],
   "source": [
    "aux3 = pd.DataFrame({'Fecha':aux2.index, 'PrecioMax':aux2.values})\n",
    "aux3.head()"
   ]
  },
  {
   "cell_type": "code",
   "execution_count": 98,
   "metadata": {},
   "outputs": [
    {
     "data": {
      "text/html": [
       "<div>\n",
       "<style scoped>\n",
       "    .dataframe tbody tr th:only-of-type {\n",
       "        vertical-align: middle;\n",
       "    }\n",
       "\n",
       "    .dataframe tbody tr th {\n",
       "        vertical-align: top;\n",
       "    }\n",
       "\n",
       "    .dataframe thead th {\n",
       "        text-align: right;\n",
       "    }\n",
       "</style>\n",
       "<table border=\"1\" class=\"dataframe\">\n",
       "  <thead>\n",
       "    <tr style=\"text-align: right;\">\n",
       "      <th></th>\n",
       "      <th>Fecha</th>\n",
       "      <th>variable</th>\n",
       "      <th>value</th>\n",
       "      <th>mes</th>\n",
       "      <th>dia</th>\n",
       "      <th>año</th>\n",
       "      <th>año-mes</th>\n",
       "      <th>diasemana</th>\n",
       "    </tr>\n",
       "  </thead>\n",
       "  <tbody>\n",
       "    <tr>\n",
       "      <th>2</th>\n",
       "      <td>1995-07-22</td>\n",
       "      <td>0</td>\n",
       "      <td>1.073</td>\n",
       "      <td>7</td>\n",
       "      <td>22</td>\n",
       "      <td>1995</td>\n",
       "      <td>1995-7</td>\n",
       "      <td>5</td>\n",
       "    </tr>\n",
       "    <tr>\n",
       "      <th>9</th>\n",
       "      <td>1995-07-29</td>\n",
       "      <td>0</td>\n",
       "      <td>1.000</td>\n",
       "      <td>7</td>\n",
       "      <td>29</td>\n",
       "      <td>1995</td>\n",
       "      <td>1995-7</td>\n",
       "      <td>5</td>\n",
       "    </tr>\n",
       "    <tr>\n",
       "      <th>16</th>\n",
       "      <td>1995-08-05</td>\n",
       "      <td>0</td>\n",
       "      <td>2.000</td>\n",
       "      <td>8</td>\n",
       "      <td>5</td>\n",
       "      <td>1995</td>\n",
       "      <td>1995-8</td>\n",
       "      <td>5</td>\n",
       "    </tr>\n",
       "    <tr>\n",
       "      <th>23</th>\n",
       "      <td>1995-08-12</td>\n",
       "      <td>0</td>\n",
       "      <td>30.000</td>\n",
       "      <td>8</td>\n",
       "      <td>12</td>\n",
       "      <td>1995</td>\n",
       "      <td>1995-8</td>\n",
       "      <td>5</td>\n",
       "    </tr>\n",
       "    <tr>\n",
       "      <th>30</th>\n",
       "      <td>1995-08-19</td>\n",
       "      <td>0</td>\n",
       "      <td>1.000</td>\n",
       "      <td>8</td>\n",
       "      <td>19</td>\n",
       "      <td>1995</td>\n",
       "      <td>1995-8</td>\n",
       "      <td>5</td>\n",
       "    </tr>\n",
       "  </tbody>\n",
       "</table>\n",
       "</div>"
      ],
      "text/plain": [
       "        Fecha variable   value  mes  dia   año año-mes  diasemana\n",
       "2  1995-07-22        0   1.073    7   22  1995  1995-7          5\n",
       "9  1995-07-29        0   1.000    7   29  1995  1995-7          5\n",
       "16 1995-08-05        0   2.000    8    5  1995  1995-8          5\n",
       "23 1995-08-12        0  30.000    8   12  1995  1995-8          5\n",
       "30 1995-08-19        0   1.000    8   19  1995  1995-8          5"
      ]
     },
     "execution_count": 98,
     "metadata": {},
     "output_type": "execute_result"
    }
   ],
   "source": [
    "aux=sabados.copy()\n",
    "aux['Fecha'] = pd.to_datetime(aux['Fecha'])\n",
    "aux.head()"
   ]
  },
  {
   "cell_type": "code",
   "execution_count": 99,
   "metadata": {},
   "outputs": [
    {
     "data": {
      "text/html": [
       "<div>\n",
       "<style scoped>\n",
       "    .dataframe tbody tr th:only-of-type {\n",
       "        vertical-align: middle;\n",
       "    }\n",
       "\n",
       "    .dataframe tbody tr th {\n",
       "        vertical-align: top;\n",
       "    }\n",
       "\n",
       "    .dataframe thead th {\n",
       "        text-align: right;\n",
       "    }\n",
       "</style>\n",
       "<table border=\"1\" class=\"dataframe\">\n",
       "  <thead>\n",
       "    <tr style=\"text-align: right;\">\n",
       "      <th></th>\n",
       "      <th>Fecha</th>\n",
       "      <th>variable</th>\n",
       "      <th>value</th>\n",
       "      <th>mes</th>\n",
       "      <th>dia</th>\n",
       "      <th>año</th>\n",
       "      <th>año-mes</th>\n",
       "      <th>diasemana</th>\n",
       "      <th>PrecioMax</th>\n",
       "    </tr>\n",
       "  </thead>\n",
       "  <tbody>\n",
       "    <tr>\n",
       "      <th>0</th>\n",
       "      <td>1995-07-22</td>\n",
       "      <td>0</td>\n",
       "      <td>1.073</td>\n",
       "      <td>7</td>\n",
       "      <td>22</td>\n",
       "      <td>1995</td>\n",
       "      <td>1995-7</td>\n",
       "      <td>5</td>\n",
       "      <td>2.5</td>\n",
       "    </tr>\n",
       "    <tr>\n",
       "      <th>1</th>\n",
       "      <td>1995-07-22</td>\n",
       "      <td>1</td>\n",
       "      <td>1.073</td>\n",
       "      <td>7</td>\n",
       "      <td>22</td>\n",
       "      <td>1995</td>\n",
       "      <td>1995-7</td>\n",
       "      <td>5</td>\n",
       "      <td>2.5</td>\n",
       "    </tr>\n",
       "    <tr>\n",
       "      <th>2</th>\n",
       "      <td>1995-07-22</td>\n",
       "      <td>10</td>\n",
       "      <td>1.303</td>\n",
       "      <td>7</td>\n",
       "      <td>22</td>\n",
       "      <td>1995</td>\n",
       "      <td>1995-7</td>\n",
       "      <td>5</td>\n",
       "      <td>2.5</td>\n",
       "    </tr>\n",
       "    <tr>\n",
       "      <th>3</th>\n",
       "      <td>1995-07-22</td>\n",
       "      <td>11</td>\n",
       "      <td>1.303</td>\n",
       "      <td>7</td>\n",
       "      <td>22</td>\n",
       "      <td>1995</td>\n",
       "      <td>1995-7</td>\n",
       "      <td>5</td>\n",
       "      <td>2.5</td>\n",
       "    </tr>\n",
       "    <tr>\n",
       "      <th>4</th>\n",
       "      <td>1995-07-22</td>\n",
       "      <td>12</td>\n",
       "      <td>1.303</td>\n",
       "      <td>7</td>\n",
       "      <td>22</td>\n",
       "      <td>1995</td>\n",
       "      <td>1995-7</td>\n",
       "      <td>5</td>\n",
       "      <td>2.5</td>\n",
       "    </tr>\n",
       "  </tbody>\n",
       "</table>\n",
       "</div>"
      ],
      "text/plain": [
       "       Fecha variable  value  mes  dia   año año-mes  diasemana  PrecioMax\n",
       "0 1995-07-22        0  1.073    7   22  1995  1995-7          5        2.5\n",
       "1 1995-07-22        1  1.073    7   22  1995  1995-7          5        2.5\n",
       "2 1995-07-22       10  1.303    7   22  1995  1995-7          5        2.5\n",
       "3 1995-07-22       11  1.303    7   22  1995  1995-7          5        2.5\n",
       "4 1995-07-22       12  1.303    7   22  1995  1995-7          5        2.5"
      ]
     },
     "execution_count": 99,
     "metadata": {},
     "output_type": "execute_result"
    }
   ],
   "source": [
    "aux5 = pd.merge(aux, aux3, on=['Fecha'], how='inner')\n",
    "aux5.head()"
   ]
  },
  {
   "cell_type": "code",
   "execution_count": 100,
   "metadata": {},
   "outputs": [
    {
     "data": {
      "text/html": [
       "<div>\n",
       "<style scoped>\n",
       "    .dataframe tbody tr th:only-of-type {\n",
       "        vertical-align: middle;\n",
       "    }\n",
       "\n",
       "    .dataframe tbody tr th {\n",
       "        vertical-align: top;\n",
       "    }\n",
       "\n",
       "    .dataframe thead th {\n",
       "        text-align: right;\n",
       "    }\n",
       "</style>\n",
       "<table border=\"1\" class=\"dataframe\">\n",
       "  <thead>\n",
       "    <tr style=\"text-align: right;\">\n",
       "      <th></th>\n",
       "      <th>Fecha</th>\n",
       "      <th>variable</th>\n",
       "      <th>value</th>\n",
       "      <th>mes</th>\n",
       "      <th>dia</th>\n",
       "      <th>año</th>\n",
       "      <th>año-mes</th>\n",
       "      <th>diasemana</th>\n",
       "      <th>PrecioMax</th>\n",
       "    </tr>\n",
       "  </thead>\n",
       "  <tbody>\n",
       "    <tr>\n",
       "      <th>11</th>\n",
       "      <td>1995-07-22</td>\n",
       "      <td>19</td>\n",
       "      <td>2.500</td>\n",
       "      <td>7</td>\n",
       "      <td>22</td>\n",
       "      <td>1995</td>\n",
       "      <td>1995-7</td>\n",
       "      <td>5</td>\n",
       "      <td>2.500</td>\n",
       "    </tr>\n",
       "    <tr>\n",
       "      <th>13</th>\n",
       "      <td>1995-07-22</td>\n",
       "      <td>20</td>\n",
       "      <td>2.500</td>\n",
       "      <td>7</td>\n",
       "      <td>22</td>\n",
       "      <td>1995</td>\n",
       "      <td>1995-7</td>\n",
       "      <td>5</td>\n",
       "      <td>2.500</td>\n",
       "    </tr>\n",
       "    <tr>\n",
       "      <th>28</th>\n",
       "      <td>1995-07-29</td>\n",
       "      <td>12</td>\n",
       "      <td>1.072</td>\n",
       "      <td>7</td>\n",
       "      <td>29</td>\n",
       "      <td>1995</td>\n",
       "      <td>1995-7</td>\n",
       "      <td>5</td>\n",
       "      <td>1.072</td>\n",
       "    </tr>\n",
       "    <tr>\n",
       "      <th>37</th>\n",
       "      <td>1995-07-29</td>\n",
       "      <td>20</td>\n",
       "      <td>1.072</td>\n",
       "      <td>7</td>\n",
       "      <td>29</td>\n",
       "      <td>1995</td>\n",
       "      <td>1995-7</td>\n",
       "      <td>5</td>\n",
       "      <td>1.072</td>\n",
       "    </tr>\n",
       "    <tr>\n",
       "      <th>50</th>\n",
       "      <td>1995-08-05</td>\n",
       "      <td>10</td>\n",
       "      <td>2.558</td>\n",
       "      <td>8</td>\n",
       "      <td>5</td>\n",
       "      <td>1995</td>\n",
       "      <td>1995-8</td>\n",
       "      <td>5</td>\n",
       "      <td>2.558</td>\n",
       "    </tr>\n",
       "  </tbody>\n",
       "</table>\n",
       "</div>"
      ],
      "text/plain": [
       "        Fecha variable  value  mes  dia   año año-mes  diasemana  PrecioMax\n",
       "11 1995-07-22       19  2.500    7   22  1995  1995-7          5      2.500\n",
       "13 1995-07-22       20  2.500    7   22  1995  1995-7          5      2.500\n",
       "28 1995-07-29       12  1.072    7   29  1995  1995-7          5      1.072\n",
       "37 1995-07-29       20  1.072    7   29  1995  1995-7          5      1.072\n",
       "50 1995-08-05       10  2.558    8    5  1995  1995-8          5      2.558"
      ]
     },
     "execution_count": 100,
     "metadata": {},
     "output_type": "execute_result"
    }
   ],
   "source": [
    "auxMax=aux5[aux5['value']==aux5['PrecioMax']]\n",
    "auxMax.head()"
   ]
  },
  {
   "cell_type": "code",
   "execution_count": 101,
   "metadata": {},
   "outputs": [
    {
     "data": {
      "text/plain": [
       "11    19\n",
       "13    20\n",
       "28    12\n",
       "37    20\n",
       "50    10\n",
       "Name: variable, dtype: object"
      ]
     },
     "execution_count": 101,
     "metadata": {},
     "output_type": "execute_result"
    }
   ],
   "source": [
    "a=auxMax['variable']\n",
    "a.head()"
   ]
  },
  {
   "cell_type": "code",
   "execution_count": 102,
   "metadata": {},
   "outputs": [],
   "source": [
    "alist=sorted(map(int,a.tolist()))"
   ]
  },
  {
   "cell_type": "code",
   "execution_count": 103,
   "metadata": {},
   "outputs": [
    {
     "data": {
      "text/plain": [
       "(array([  18.,   11.,   14.,   11.,   12.,   14.,   19.,   41.,   86.,\n",
       "         130.,  197.,  282.,  255.,  143.,   85.,   55.,   35.,   52.,\n",
       "         562., 1048.,  484.,  219.,   72.,   27.]),\n",
       " array([ 0.        ,  0.95833333,  1.91666667,  2.875     ,  3.83333333,\n",
       "         4.79166667,  5.75      ,  6.70833333,  7.66666667,  8.625     ,\n",
       "         9.58333333, 10.54166667, 11.5       , 12.45833333, 13.41666667,\n",
       "        14.375     , 15.33333333, 16.29166667, 17.25      , 18.20833333,\n",
       "        19.16666667, 20.125     , 21.08333333, 22.04166667, 23.        ]),\n",
       " <a list of 24 Patch objects>)"
      ]
     },
     "execution_count": 103,
     "metadata": {},
     "output_type": "execute_result"
    },
    {
     "data": {
      "image/png": "[encoded data removed]",
      "text/plain": [
       "<Figure size 432x288 with 1 Axes>"
      ]
     },
     "metadata": {
      "needs_background": "light"
     },
     "output_type": "display_data"
    }
   ],
   "source": [
    "plt.hist(alist, bins=24)"
   ]
  },
  {
   "cell_type": "code",
   "execution_count": null,
   "metadata": {},
   "outputs": [],
   "source": []
  },
  {
   "cell_type": "code",
   "execution_count": null,
   "metadata": {},
   "outputs": [],
   "source": [
    "## 11) Haga un histograma que muestre a que horas se \n",
    "##     produce el máximo precio diario para los días domingo."
   ]
  },
  {
   "cell_type": "code",
   "execution_count": 104,
   "metadata": {},
   "outputs": [],
   "source": [
    "domingos=datacorr[datacorr['diasemana']==6]"
   ]
  },
  {
   "cell_type": "code",
   "execution_count": 105,
   "metadata": {},
   "outputs": [
    {
     "data": {
      "text/plain": [
       "Fecha\n",
       "1996-02-04    10.000\n",
       "1996-02-11    15.000\n",
       "1996-02-18    11.500\n",
       "1996-02-25     8.379\n",
       "1996-03-03     7.500\n",
       "Name: value, dtype: float64"
      ]
     },
     "execution_count": 105,
     "metadata": {},
     "output_type": "execute_result"
    }
   ],
   "source": [
    "aux2=domingos.groupby('Fecha')['value'].max()\n",
    "aux2.head()"
   ]
  },
  {
   "cell_type": "code",
   "execution_count": 106,
   "metadata": {},
   "outputs": [
    {
     "data": {
      "text/html": [
       "<div>\n",
       "<style scoped>\n",
       "    .dataframe tbody tr th:only-of-type {\n",
       "        vertical-align: middle;\n",
       "    }\n",
       "\n",
       "    .dataframe tbody tr th {\n",
       "        vertical-align: top;\n",
       "    }\n",
       "\n",
       "    .dataframe thead th {\n",
       "        text-align: right;\n",
       "    }\n",
       "</style>\n",
       "<table border=\"1\" class=\"dataframe\">\n",
       "  <thead>\n",
       "    <tr style=\"text-align: right;\">\n",
       "      <th></th>\n",
       "      <th>Fecha</th>\n",
       "      <th>PrecioMax</th>\n",
       "    </tr>\n",
       "  </thead>\n",
       "  <tbody>\n",
       "    <tr>\n",
       "      <th>0</th>\n",
       "      <td>1996-02-04</td>\n",
       "      <td>10.000</td>\n",
       "    </tr>\n",
       "    <tr>\n",
       "      <th>1</th>\n",
       "      <td>1996-02-11</td>\n",
       "      <td>15.000</td>\n",
       "    </tr>\n",
       "    <tr>\n",
       "      <th>2</th>\n",
       "      <td>1996-02-18</td>\n",
       "      <td>11.500</td>\n",
       "    </tr>\n",
       "    <tr>\n",
       "      <th>3</th>\n",
       "      <td>1996-02-25</td>\n",
       "      <td>8.379</td>\n",
       "    </tr>\n",
       "    <tr>\n",
       "      <th>4</th>\n",
       "      <td>1996-03-03</td>\n",
       "      <td>7.500</td>\n",
       "    </tr>\n",
       "  </tbody>\n",
       "</table>\n",
       "</div>"
      ],
      "text/plain": [
       "       Fecha  PrecioMax\n",
       "0 1996-02-04     10.000\n",
       "1 1996-02-11     15.000\n",
       "2 1996-02-18     11.500\n",
       "3 1996-02-25      8.379\n",
       "4 1996-03-03      7.500"
      ]
     },
     "execution_count": 106,
     "metadata": {},
     "output_type": "execute_result"
    }
   ],
   "source": [
    "aux3 = pd.DataFrame({'Fecha':aux2.index, 'PrecioMax':aux2.values})\n",
    "aux3.head()"
   ]
  },
  {
   "cell_type": "code",
   "execution_count": 107,
   "metadata": {},
   "outputs": [
    {
     "data": {
      "text/html": [
       "<div>\n",
       "<style scoped>\n",
       "    .dataframe tbody tr th:only-of-type {\n",
       "        vertical-align: middle;\n",
       "    }\n",
       "\n",
       "    .dataframe tbody tr th {\n",
       "        vertical-align: top;\n",
       "    }\n",
       "\n",
       "    .dataframe thead th {\n",
       "        text-align: right;\n",
       "    }\n",
       "</style>\n",
       "<table border=\"1\" class=\"dataframe\">\n",
       "  <thead>\n",
       "    <tr style=\"text-align: right;\">\n",
       "      <th></th>\n",
       "      <th>Fecha</th>\n",
       "      <th>variable</th>\n",
       "      <th>value</th>\n",
       "      <th>mes</th>\n",
       "      <th>dia</th>\n",
       "      <th>año</th>\n",
       "      <th>año-mes</th>\n",
       "      <th>diasemana</th>\n",
       "    </tr>\n",
       "  </thead>\n",
       "  <tbody>\n",
       "    <tr>\n",
       "      <th>3</th>\n",
       "      <td>1995-07-23</td>\n",
       "      <td>0</td>\n",
       "      <td>1.073</td>\n",
       "      <td>7</td>\n",
       "      <td>23</td>\n",
       "      <td>1995</td>\n",
       "      <td>1995-7</td>\n",
       "      <td>6</td>\n",
       "    </tr>\n",
       "    <tr>\n",
       "      <th>10</th>\n",
       "      <td>1995-07-30</td>\n",
       "      <td>0</td>\n",
       "      <td>1.072</td>\n",
       "      <td>7</td>\n",
       "      <td>30</td>\n",
       "      <td>1995</td>\n",
       "      <td>1995-7</td>\n",
       "      <td>6</td>\n",
       "    </tr>\n",
       "    <tr>\n",
       "      <th>17</th>\n",
       "      <td>1995-08-06</td>\n",
       "      <td>0</td>\n",
       "      <td>3.000</td>\n",
       "      <td>8</td>\n",
       "      <td>6</td>\n",
       "      <td>1995</td>\n",
       "      <td>1995-8</td>\n",
       "      <td>6</td>\n",
       "    </tr>\n",
       "    <tr>\n",
       "      <th>24</th>\n",
       "      <td>1995-08-13</td>\n",
       "      <td>0</td>\n",
       "      <td>35.000</td>\n",
       "      <td>8</td>\n",
       "      <td>13</td>\n",
       "      <td>1995</td>\n",
       "      <td>1995-8</td>\n",
       "      <td>6</td>\n",
       "    </tr>\n",
       "    <tr>\n",
       "      <th>31</th>\n",
       "      <td>1995-08-20</td>\n",
       "      <td>0</td>\n",
       "      <td>2.000</td>\n",
       "      <td>8</td>\n",
       "      <td>20</td>\n",
       "      <td>1995</td>\n",
       "      <td>1995-8</td>\n",
       "      <td>6</td>\n",
       "    </tr>\n",
       "  </tbody>\n",
       "</table>\n",
       "</div>"
      ],
      "text/plain": [
       "        Fecha variable   value  mes  dia   año año-mes  diasemana\n",
       "3  1995-07-23        0   1.073    7   23  1995  1995-7          6\n",
       "10 1995-07-30        0   1.072    7   30  1995  1995-7          6\n",
       "17 1995-08-06        0   3.000    8    6  1995  1995-8          6\n",
       "24 1995-08-13        0  35.000    8   13  1995  1995-8          6\n",
       "31 1995-08-20        0   2.000    8   20  1995  1995-8          6"
      ]
     },
     "execution_count": 107,
     "metadata": {},
     "output_type": "execute_result"
    }
   ],
   "source": [
    "aux=domingos.copy()\n",
    "aux['Fecha'] = pd.to_datetime(aux['Fecha'])\n",
    "aux.head()"
   ]
  },
  {
   "cell_type": "code",
   "execution_count": 108,
   "metadata": {},
   "outputs": [
    {
     "data": {
      "text/html": [
       "<div>\n",
       "<style scoped>\n",
       "    .dataframe tbody tr th:only-of-type {\n",
       "        vertical-align: middle;\n",
       "    }\n",
       "\n",
       "    .dataframe tbody tr th {\n",
       "        vertical-align: top;\n",
       "    }\n",
       "\n",
       "    .dataframe thead th {\n",
       "        text-align: right;\n",
       "    }\n",
       "</style>\n",
       "<table border=\"1\" class=\"dataframe\">\n",
       "  <thead>\n",
       "    <tr style=\"text-align: right;\">\n",
       "      <th></th>\n",
       "      <th>Fecha</th>\n",
       "      <th>variable</th>\n",
       "      <th>value</th>\n",
       "      <th>mes</th>\n",
       "      <th>dia</th>\n",
       "      <th>año</th>\n",
       "      <th>año-mes</th>\n",
       "      <th>diasemana</th>\n",
       "      <th>PrecioMax</th>\n",
       "    </tr>\n",
       "  </thead>\n",
       "  <tbody>\n",
       "    <tr>\n",
       "      <th>0</th>\n",
       "      <td>1995-07-23</td>\n",
       "      <td>0</td>\n",
       "      <td>1.073</td>\n",
       "      <td>7</td>\n",
       "      <td>23</td>\n",
       "      <td>1995</td>\n",
       "      <td>1995-7</td>\n",
       "      <td>6</td>\n",
       "      <td>1.238</td>\n",
       "    </tr>\n",
       "    <tr>\n",
       "      <th>1</th>\n",
       "      <td>1995-07-23</td>\n",
       "      <td>1</td>\n",
       "      <td>1.000</td>\n",
       "      <td>7</td>\n",
       "      <td>23</td>\n",
       "      <td>1995</td>\n",
       "      <td>1995-7</td>\n",
       "      <td>6</td>\n",
       "      <td>1.238</td>\n",
       "    </tr>\n",
       "    <tr>\n",
       "      <th>2</th>\n",
       "      <td>1995-07-23</td>\n",
       "      <td>10</td>\n",
       "      <td>1.000</td>\n",
       "      <td>7</td>\n",
       "      <td>23</td>\n",
       "      <td>1995</td>\n",
       "      <td>1995-7</td>\n",
       "      <td>6</td>\n",
       "      <td>1.238</td>\n",
       "    </tr>\n",
       "    <tr>\n",
       "      <th>3</th>\n",
       "      <td>1995-07-23</td>\n",
       "      <td>11</td>\n",
       "      <td>1.000</td>\n",
       "      <td>7</td>\n",
       "      <td>23</td>\n",
       "      <td>1995</td>\n",
       "      <td>1995-7</td>\n",
       "      <td>6</td>\n",
       "      <td>1.238</td>\n",
       "    </tr>\n",
       "    <tr>\n",
       "      <th>4</th>\n",
       "      <td>1995-07-23</td>\n",
       "      <td>12</td>\n",
       "      <td>1.238</td>\n",
       "      <td>7</td>\n",
       "      <td>23</td>\n",
       "      <td>1995</td>\n",
       "      <td>1995-7</td>\n",
       "      <td>6</td>\n",
       "      <td>1.238</td>\n",
       "    </tr>\n",
       "  </tbody>\n",
       "</table>\n",
       "</div>"
      ],
      "text/plain": [
       "       Fecha variable  value  mes  dia   año año-mes  diasemana  PrecioMax\n",
       "0 1995-07-23        0  1.073    7   23  1995  1995-7          6      1.238\n",
       "1 1995-07-23        1  1.000    7   23  1995  1995-7          6      1.238\n",
       "2 1995-07-23       10  1.000    7   23  1995  1995-7          6      1.238\n",
       "3 1995-07-23       11  1.000    7   23  1995  1995-7          6      1.238\n",
       "4 1995-07-23       12  1.238    7   23  1995  1995-7          6      1.238"
      ]
     },
     "execution_count": 108,
     "metadata": {},
     "output_type": "execute_result"
    }
   ],
   "source": [
    "aux5 = pd.merge(aux, aux3, on=['Fecha'], how='inner')\n",
    "aux5.head()"
   ]
  },
  {
   "cell_type": "code",
   "execution_count": 109,
   "metadata": {},
   "outputs": [
    {
     "data": {
      "text/html": [
       "<div>\n",
       "<style scoped>\n",
       "    .dataframe tbody tr th:only-of-type {\n",
       "        vertical-align: middle;\n",
       "    }\n",
       "\n",
       "    .dataframe tbody tr th {\n",
       "        vertical-align: top;\n",
       "    }\n",
       "\n",
       "    .dataframe thead th {\n",
       "        text-align: right;\n",
       "    }\n",
       "</style>\n",
       "<table border=\"1\" class=\"dataframe\">\n",
       "  <thead>\n",
       "    <tr style=\"text-align: right;\">\n",
       "      <th></th>\n",
       "      <th>Fecha</th>\n",
       "      <th>variable</th>\n",
       "      <th>value</th>\n",
       "      <th>mes</th>\n",
       "      <th>dia</th>\n",
       "      <th>año</th>\n",
       "      <th>año-mes</th>\n",
       "      <th>diasemana</th>\n",
       "      <th>PrecioMax</th>\n",
       "    </tr>\n",
       "  </thead>\n",
       "  <tbody>\n",
       "    <tr>\n",
       "      <th>4</th>\n",
       "      <td>1995-07-23</td>\n",
       "      <td>12</td>\n",
       "      <td>1.238</td>\n",
       "      <td>7</td>\n",
       "      <td>23</td>\n",
       "      <td>1995</td>\n",
       "      <td>1995-7</td>\n",
       "      <td>6</td>\n",
       "      <td>1.238</td>\n",
       "    </tr>\n",
       "    <tr>\n",
       "      <th>5</th>\n",
       "      <td>1995-07-23</td>\n",
       "      <td>13</td>\n",
       "      <td>1.238</td>\n",
       "      <td>7</td>\n",
       "      <td>23</td>\n",
       "      <td>1995</td>\n",
       "      <td>1995-7</td>\n",
       "      <td>6</td>\n",
       "      <td>1.238</td>\n",
       "    </tr>\n",
       "    <tr>\n",
       "      <th>10</th>\n",
       "      <td>1995-07-23</td>\n",
       "      <td>18</td>\n",
       "      <td>1.238</td>\n",
       "      <td>7</td>\n",
       "      <td>23</td>\n",
       "      <td>1995</td>\n",
       "      <td>1995-7</td>\n",
       "      <td>6</td>\n",
       "      <td>1.238</td>\n",
       "    </tr>\n",
       "    <tr>\n",
       "      <th>11</th>\n",
       "      <td>1995-07-23</td>\n",
       "      <td>19</td>\n",
       "      <td>1.238</td>\n",
       "      <td>7</td>\n",
       "      <td>23</td>\n",
       "      <td>1995</td>\n",
       "      <td>1995-7</td>\n",
       "      <td>6</td>\n",
       "      <td>1.238</td>\n",
       "    </tr>\n",
       "    <tr>\n",
       "      <th>13</th>\n",
       "      <td>1995-07-23</td>\n",
       "      <td>20</td>\n",
       "      <td>1.238</td>\n",
       "      <td>7</td>\n",
       "      <td>23</td>\n",
       "      <td>1995</td>\n",
       "      <td>1995-7</td>\n",
       "      <td>6</td>\n",
       "      <td>1.238</td>\n",
       "    </tr>\n",
       "  </tbody>\n",
       "</table>\n",
       "</div>"
      ],
      "text/plain": [
       "        Fecha variable  value  mes  dia   año año-mes  diasemana  PrecioMax\n",
       "4  1995-07-23       12  1.238    7   23  1995  1995-7          6      1.238\n",
       "5  1995-07-23       13  1.238    7   23  1995  1995-7          6      1.238\n",
       "10 1995-07-23       18  1.238    7   23  1995  1995-7          6      1.238\n",
       "11 1995-07-23       19  1.238    7   23  1995  1995-7          6      1.238\n",
       "13 1995-07-23       20  1.238    7   23  1995  1995-7          6      1.238"
      ]
     },
     "execution_count": 109,
     "metadata": {},
     "output_type": "execute_result"
    }
   ],
   "source": [
    "auxMax=aux5[aux5['value']==aux5['PrecioMax']]\n",
    "auxMax.head()"
   ]
  },
  {
   "cell_type": "code",
   "execution_count": 111,
   "metadata": {},
   "outputs": [
    {
     "data": {
      "text/plain": [
       "4     12\n",
       "5     13\n",
       "10    18\n",
       "11    19\n",
       "13    20\n",
       "Name: variable, dtype: object"
      ]
     },
     "execution_count": 111,
     "metadata": {},
     "output_type": "execute_result"
    }
   ],
   "source": [
    "a=auxMax['variable']\n",
    "a.head()"
   ]
  },
  {
   "cell_type": "code",
   "execution_count": 112,
   "metadata": {},
   "outputs": [],
   "source": [
    "alist=sorted(map(int,a.tolist()))"
   ]
  },
  {
   "cell_type": "code",
   "execution_count": 113,
   "metadata": {},
   "outputs": [
    {
     "data": {
      "text/plain": [
       "(array([  71.,   51.,   47.,   44.,   44.,   45.,   40.,   50.,   76.,\n",
       "          81.,   94.,  103.,  119.,  106.,   73.,   62.,   49.,   75.,\n",
       "         478., 1084.,  703.,  348.,  126.,   53.]),\n",
       " array([ 0.        ,  0.95833333,  1.91666667,  2.875     ,  3.83333333,\n",
       "         4.79166667,  5.75      ,  6.70833333,  7.66666667,  8.625     ,\n",
       "         9.58333333, 10.54166667, 11.5       , 12.45833333, 13.41666667,\n",
       "        14.375     , 15.33333333, 16.29166667, 17.25      , 18.20833333,\n",
       "        19.16666667, 20.125     , 21.08333333, 22.04166667, 23.        ]),\n",
       " <a list of 24 Patch objects>)"
      ]
     },
     "execution_count": 113,
     "metadata": {},
     "output_type": "execute_result"
    },
    {
     "data": {
      "image/png": "[encoded data removed]",
      "text/plain": [
       "<Figure size 432x288 with 1 Axes>"
      ]
     },
     "metadata": {
      "needs_background": "light"
     },
     "output_type": "display_data"
    }
   ],
   "source": [
    "plt.hist(alist, bins=24)"
   ]
  },
  {
   "cell_type": "code",
   "execution_count": null,
   "metadata": {},
   "outputs": [],
   "source": []
  },
  {
   "cell_type": "code",
   "execution_count": null,
   "metadata": {},
   "outputs": [],
   "source": [
    "## 12) Imprima una tabla con la fecha y el valor \n",
    "##     más bajo por año del precio de bolsa."
   ]
  },
  {
   "cell_type": "code",
   "execution_count": 114,
   "metadata": {},
   "outputs": [],
   "source": [
    "MinAño=datacorr.groupby('año')['value'].min()"
   ]
  },
  {
   "cell_type": "code",
   "execution_count": 117,
   "metadata": {},
   "outputs": [
    {
     "data": {
      "text/html": [
       "<div>\n",
       "<style scoped>\n",
       "    .dataframe tbody tr th:only-of-type {\n",
       "        vertical-align: middle;\n",
       "    }\n",
       "\n",
       "    .dataframe tbody tr th {\n",
       "        vertical-align: top;\n",
       "    }\n",
       "\n",
       "    .dataframe thead th {\n",
       "        text-align: right;\n",
       "    }\n",
       "</style>\n",
       "<table border=\"1\" class=\"dataframe\">\n",
       "  <thead>\n",
       "    <tr style=\"text-align: right;\">\n",
       "      <th></th>\n",
       "      <th>Año</th>\n",
       "      <th>PrecioMin</th>\n",
       "    </tr>\n",
       "  </thead>\n",
       "  <tbody>\n",
       "    <tr>\n",
       "      <th>0</th>\n",
       "      <td>1995</td>\n",
       "      <td>0.000000</td>\n",
       "    </tr>\n",
       "    <tr>\n",
       "      <th>1</th>\n",
       "      <td>1996</td>\n",
       "      <td>0.000000</td>\n",
       "    </tr>\n",
       "    <tr>\n",
       "      <th>2</th>\n",
       "      <td>1997</td>\n",
       "      <td>10.882310</td>\n",
       "    </tr>\n",
       "    <tr>\n",
       "      <th>3</th>\n",
       "      <td>1998</td>\n",
       "      <td>13.847330</td>\n",
       "    </tr>\n",
       "    <tr>\n",
       "      <th>4</th>\n",
       "      <td>1999</td>\n",
       "      <td>18.359530</td>\n",
       "    </tr>\n",
       "    <tr>\n",
       "      <th>5</th>\n",
       "      <td>2000</td>\n",
       "      <td>21.531167</td>\n",
       "    </tr>\n",
       "    <tr>\n",
       "      <th>6</th>\n",
       "      <td>2001</td>\n",
       "      <td>24.822879</td>\n",
       "    </tr>\n",
       "    <tr>\n",
       "      <th>7</th>\n",
       "      <td>2002</td>\n",
       "      <td>26.777682</td>\n",
       "    </tr>\n",
       "    <tr>\n",
       "      <th>8</th>\n",
       "      <td>2003</td>\n",
       "      <td>37.013438</td>\n",
       "    </tr>\n",
       "    <tr>\n",
       "      <th>9</th>\n",
       "      <td>2004</td>\n",
       "      <td>32.252998</td>\n",
       "    </tr>\n",
       "    <tr>\n",
       "      <th>10</th>\n",
       "      <td>2005</td>\n",
       "      <td>27.581415</td>\n",
       "    </tr>\n",
       "    <tr>\n",
       "      <th>11</th>\n",
       "      <td>2006</td>\n",
       "      <td>26.714797</td>\n",
       "    </tr>\n",
       "    <tr>\n",
       "      <th>12</th>\n",
       "      <td>2007</td>\n",
       "      <td>30.173824</td>\n",
       "    </tr>\n",
       "    <tr>\n",
       "      <th>13</th>\n",
       "      <td>2008</td>\n",
       "      <td>29.199135</td>\n",
       "    </tr>\n",
       "    <tr>\n",
       "      <th>14</th>\n",
       "      <td>2009</td>\n",
       "      <td>32.892503</td>\n",
       "    </tr>\n",
       "    <tr>\n",
       "      <th>15</th>\n",
       "      <td>2010</td>\n",
       "      <td>32.024957</td>\n",
       "    </tr>\n",
       "    <tr>\n",
       "      <th>16</th>\n",
       "      <td>2011</td>\n",
       "      <td>33.291100</td>\n",
       "    </tr>\n",
       "    <tr>\n",
       "      <th>17</th>\n",
       "      <td>2012</td>\n",
       "      <td>34.988099</td>\n",
       "    </tr>\n",
       "    <tr>\n",
       "      <th>18</th>\n",
       "      <td>2013</td>\n",
       "      <td>40.415346</td>\n",
       "    </tr>\n",
       "    <tr>\n",
       "      <th>19</th>\n",
       "      <td>2014</td>\n",
       "      <td>38.941951</td>\n",
       "    </tr>\n",
       "    <tr>\n",
       "      <th>20</th>\n",
       "      <td>2015</td>\n",
       "      <td>46.791501</td>\n",
       "    </tr>\n",
       "    <tr>\n",
       "      <th>21</th>\n",
       "      <td>2016</td>\n",
       "      <td>61.100689</td>\n",
       "    </tr>\n",
       "    <tr>\n",
       "      <th>22</th>\n",
       "      <td>2017</td>\n",
       "      <td>60.312095</td>\n",
       "    </tr>\n",
       "    <tr>\n",
       "      <th>23</th>\n",
       "      <td>2018</td>\n",
       "      <td>61.457224</td>\n",
       "    </tr>\n",
       "  </tbody>\n",
       "</table>\n",
       "</div>"
      ],
      "text/plain": [
       "     Año  PrecioMin\n",
       "0   1995   0.000000\n",
       "1   1996   0.000000\n",
       "2   1997  10.882310\n",
       "3   1998  13.847330\n",
       "4   1999  18.359530\n",
       "5   2000  21.531167\n",
       "6   2001  24.822879\n",
       "7   2002  26.777682\n",
       "8   2003  37.013438\n",
       "9   2004  32.252998\n",
       "10  2005  27.581415\n",
       "11  2006  26.714797\n",
       "12  2007  30.173824\n",
       "13  2008  29.199135\n",
       "14  2009  32.892503\n",
       "15  2010  32.024957\n",
       "16  2011  33.291100\n",
       "17  2012  34.988099\n",
       "18  2013  40.415346\n",
       "19  2014  38.941951\n",
       "20  2015  46.791501\n",
       "21  2016  61.100689\n",
       "22  2017  60.312095\n",
       "23  2018  61.457224"
      ]
     },
     "execution_count": 117,
     "metadata": {},
     "output_type": "execute_result"
    }
   ],
   "source": [
    "tabla = pd.DataFrame({'Año':MinAño.index, 'PrecioMin':MinAño.values})\n",
    "tabla"
   ]
  },
  {
   "cell_type": "code",
   "execution_count": null,
   "metadata": {},
   "outputs": [],
   "source": [
    "## 13) Haga una gráfica en que se muestre el precio promedio diario \n",
    "##     y el precio promedio mensual."
   ]
  },
  {
   "cell_type": "code",
   "execution_count": 152,
   "metadata": {},
   "outputs": [
    {
     "data": {
      "text/plain": [
       "Fecha\n",
       "1996-02-01    13.903167\n",
       "1996-02-02    13.559000\n",
       "1996-02-03    14.524958\n",
       "1996-02-04     7.166917\n",
       "1996-02-05     8.333542\n",
       "Name: value, dtype: float64"
      ]
     },
     "execution_count": 152,
     "metadata": {},
     "output_type": "execute_result"
    }
   ],
   "source": [
    "PromFecha=datacorr.groupby('Fecha')['value'].mean()\n",
    "PromFecha.head()"
   ]
  },
  {
   "cell_type": "code",
   "execution_count": 153,
   "metadata": {},
   "outputs": [
    {
     "data": {
      "text/html": [
       "<div>\n",
       "<style scoped>\n",
       "    .dataframe tbody tr th:only-of-type {\n",
       "        vertical-align: middle;\n",
       "    }\n",
       "\n",
       "    .dataframe tbody tr th {\n",
       "        vertical-align: top;\n",
       "    }\n",
       "\n",
       "    .dataframe thead th {\n",
       "        text-align: right;\n",
       "    }\n",
       "</style>\n",
       "<table border=\"1\" class=\"dataframe\">\n",
       "  <thead>\n",
       "    <tr style=\"text-align: right;\">\n",
       "      <th></th>\n",
       "      <th>Fecha</th>\n",
       "      <th>PromDia</th>\n",
       "    </tr>\n",
       "  </thead>\n",
       "  <tbody>\n",
       "    <tr>\n",
       "      <th>0</th>\n",
       "      <td>1996-02-01</td>\n",
       "      <td>13.903167</td>\n",
       "    </tr>\n",
       "    <tr>\n",
       "      <th>1</th>\n",
       "      <td>1996-02-02</td>\n",
       "      <td>13.559000</td>\n",
       "    </tr>\n",
       "    <tr>\n",
       "      <th>2</th>\n",
       "      <td>1996-02-03</td>\n",
       "      <td>14.524958</td>\n",
       "    </tr>\n",
       "    <tr>\n",
       "      <th>3</th>\n",
       "      <td>1996-02-04</td>\n",
       "      <td>7.166917</td>\n",
       "    </tr>\n",
       "    <tr>\n",
       "      <th>4</th>\n",
       "      <td>1996-02-05</td>\n",
       "      <td>8.333542</td>\n",
       "    </tr>\n",
       "  </tbody>\n",
       "</table>\n",
       "</div>"
      ],
      "text/plain": [
       "       Fecha    PromDia\n",
       "0 1996-02-01  13.903167\n",
       "1 1996-02-02  13.559000\n",
       "2 1996-02-03  14.524958\n",
       "3 1996-02-04   7.166917\n",
       "4 1996-02-05   8.333542"
      ]
     },
     "execution_count": 153,
     "metadata": {},
     "output_type": "execute_result"
    }
   ],
   "source": [
    "tablaPromFecha = pd.DataFrame({'Fecha':PromFecha.index, 'PromDia':PromFecha.values})\n",
    "tablaPromFecha.head()"
   ]
  },
  {
   "cell_type": "code",
   "execution_count": 154,
   "metadata": {},
   "outputs": [
    {
     "data": {
      "text/plain": [
       "año-mes\n",
       "1995-10    10.445442\n",
       "1995-11    27.534782\n",
       "1995-12    68.876234\n",
       "1995-7      1.540655\n",
       "1995-8      7.086462\n",
       "Name: value, dtype: float64"
      ]
     },
     "execution_count": 154,
     "metadata": {},
     "output_type": "execute_result"
    }
   ],
   "source": [
    "PromMes=datacorr.groupby('año-mes')['value'].mean()\n",
    "PromMes.head()"
   ]
  },
  {
   "cell_type": "code",
   "execution_count": 155,
   "metadata": {},
   "outputs": [
    {
     "data": {
      "text/html": [
       "<div>\n",
       "<style scoped>\n",
       "    .dataframe tbody tr th:only-of-type {\n",
       "        vertical-align: middle;\n",
       "    }\n",
       "\n",
       "    .dataframe tbody tr th {\n",
       "        vertical-align: top;\n",
       "    }\n",
       "\n",
       "    .dataframe thead th {\n",
       "        text-align: right;\n",
       "    }\n",
       "</style>\n",
       "<table border=\"1\" class=\"dataframe\">\n",
       "  <thead>\n",
       "    <tr style=\"text-align: right;\">\n",
       "      <th></th>\n",
       "      <th>año-mes</th>\n",
       "      <th>PromAñoMes</th>\n",
       "    </tr>\n",
       "  </thead>\n",
       "  <tbody>\n",
       "    <tr>\n",
       "      <th>0</th>\n",
       "      <td>1995-10</td>\n",
       "      <td>10.445442</td>\n",
       "    </tr>\n",
       "    <tr>\n",
       "      <th>1</th>\n",
       "      <td>1995-11</td>\n",
       "      <td>27.534782</td>\n",
       "    </tr>\n",
       "    <tr>\n",
       "      <th>2</th>\n",
       "      <td>1995-12</td>\n",
       "      <td>68.876234</td>\n",
       "    </tr>\n",
       "    <tr>\n",
       "      <th>3</th>\n",
       "      <td>1995-7</td>\n",
       "      <td>1.540655</td>\n",
       "    </tr>\n",
       "    <tr>\n",
       "      <th>4</th>\n",
       "      <td>1995-8</td>\n",
       "      <td>7.086462</td>\n",
       "    </tr>\n",
       "  </tbody>\n",
       "</table>\n",
       "</div>"
      ],
      "text/plain": [
       "   año-mes  PromAñoMes\n",
       "0  1995-10   10.445442\n",
       "1  1995-11   27.534782\n",
       "2  1995-12   68.876234\n",
       "3   1995-7    1.540655\n",
       "4   1995-8    7.086462"
      ]
     },
     "execution_count": 155,
     "metadata": {},
     "output_type": "execute_result"
    }
   ],
   "source": [
    "tablaPromAñoMes = pd.DataFrame({'año-mes':PromMes.index, 'PromAñoMes':PromMes.values})\n",
    "tablaPromAñoMes.head()"
   ]
  },
  {
   "cell_type": "code",
   "execution_count": null,
   "metadata": {},
   "outputs": [],
   "source": []
  },
  {
   "cell_type": "code",
   "execution_count": 156,
   "metadata": {},
   "outputs": [
    {
     "data": {
      "text/html": [
       "<div>\n",
       "<style scoped>\n",
       "    .dataframe tbody tr th:only-of-type {\n",
       "        vertical-align: middle;\n",
       "    }\n",
       "\n",
       "    .dataframe tbody tr th {\n",
       "        vertical-align: top;\n",
       "    }\n",
       "\n",
       "    .dataframe thead th {\n",
       "        text-align: right;\n",
       "    }\n",
       "</style>\n",
       "<table border=\"1\" class=\"dataframe\">\n",
       "  <thead>\n",
       "    <tr style=\"text-align: right;\">\n",
       "      <th></th>\n",
       "      <th>Fecha</th>\n",
       "      <th>variable</th>\n",
       "      <th>value</th>\n",
       "      <th>mes</th>\n",
       "      <th>dia</th>\n",
       "      <th>año</th>\n",
       "      <th>año-mes</th>\n",
       "      <th>diasemana</th>\n",
       "    </tr>\n",
       "  </thead>\n",
       "  <tbody>\n",
       "    <tr>\n",
       "      <th>1</th>\n",
       "      <td>1995-07-21</td>\n",
       "      <td>0</td>\n",
       "      <td>1.073</td>\n",
       "      <td>7</td>\n",
       "      <td>21</td>\n",
       "      <td>1995</td>\n",
       "      <td>1995-7</td>\n",
       "      <td>4</td>\n",
       "    </tr>\n",
       "    <tr>\n",
       "      <th>2</th>\n",
       "      <td>1995-07-22</td>\n",
       "      <td>0</td>\n",
       "      <td>1.073</td>\n",
       "      <td>7</td>\n",
       "      <td>22</td>\n",
       "      <td>1995</td>\n",
       "      <td>1995-7</td>\n",
       "      <td>5</td>\n",
       "    </tr>\n",
       "    <tr>\n",
       "      <th>3</th>\n",
       "      <td>1995-07-23</td>\n",
       "      <td>0</td>\n",
       "      <td>1.073</td>\n",
       "      <td>7</td>\n",
       "      <td>23</td>\n",
       "      <td>1995</td>\n",
       "      <td>1995-7</td>\n",
       "      <td>6</td>\n",
       "    </tr>\n",
       "    <tr>\n",
       "      <th>4</th>\n",
       "      <td>1995-07-24</td>\n",
       "      <td>0</td>\n",
       "      <td>1.000</td>\n",
       "      <td>7</td>\n",
       "      <td>24</td>\n",
       "      <td>1995</td>\n",
       "      <td>1995-7</td>\n",
       "      <td>0</td>\n",
       "    </tr>\n",
       "    <tr>\n",
       "      <th>5</th>\n",
       "      <td>1995-07-25</td>\n",
       "      <td>0</td>\n",
       "      <td>0.990</td>\n",
       "      <td>7</td>\n",
       "      <td>25</td>\n",
       "      <td>1995</td>\n",
       "      <td>1995-7</td>\n",
       "      <td>1</td>\n",
       "    </tr>\n",
       "  </tbody>\n",
       "</table>\n",
       "</div>"
      ],
      "text/plain": [
       "        Fecha variable  value  mes  dia   año año-mes  diasemana\n",
       "1  1995-07-21        0  1.073    7   21  1995  1995-7          4\n",
       "2  1995-07-22        0  1.073    7   22  1995  1995-7          5\n",
       "3  1995-07-23        0  1.073    7   23  1995  1995-7          6\n",
       "4  1995-07-24        0  1.000    7   24  1995  1995-7          0\n",
       "5  1995-07-25        0  0.990    7   25  1995  1995-7          1"
      ]
     },
     "execution_count": 156,
     "metadata": {},
     "output_type": "execute_result"
    }
   ],
   "source": [
    "Tabla13=datacorr.copy()\n",
    "Tabla13.head()"
   ]
  },
  {
   "cell_type": "code",
   "execution_count": 157,
   "metadata": {},
   "outputs": [
    {
     "data": {
      "text/html": [
       "<div>\n",
       "<style scoped>\n",
       "    .dataframe tbody tr th:only-of-type {\n",
       "        vertical-align: middle;\n",
       "    }\n",
       "\n",
       "    .dataframe tbody tr th {\n",
       "        vertical-align: top;\n",
       "    }\n",
       "\n",
       "    .dataframe thead th {\n",
       "        text-align: right;\n",
       "    }\n",
       "</style>\n",
       "<table border=\"1\" class=\"dataframe\">\n",
       "  <thead>\n",
       "    <tr style=\"text-align: right;\">\n",
       "      <th></th>\n",
       "      <th>Fecha</th>\n",
       "      <th>variable</th>\n",
       "      <th>value</th>\n",
       "      <th>mes</th>\n",
       "      <th>dia</th>\n",
       "      <th>año</th>\n",
       "      <th>año-mes</th>\n",
       "      <th>diasemana</th>\n",
       "    </tr>\n",
       "  </thead>\n",
       "  <tbody>\n",
       "    <tr>\n",
       "      <th>1</th>\n",
       "      <td>1995-07-21</td>\n",
       "      <td>0</td>\n",
       "      <td>1.073</td>\n",
       "      <td>7</td>\n",
       "      <td>21</td>\n",
       "      <td>1995</td>\n",
       "      <td>1995-7</td>\n",
       "      <td>4</td>\n",
       "    </tr>\n",
       "    <tr>\n",
       "      <th>2</th>\n",
       "      <td>1995-07-22</td>\n",
       "      <td>0</td>\n",
       "      <td>1.073</td>\n",
       "      <td>7</td>\n",
       "      <td>22</td>\n",
       "      <td>1995</td>\n",
       "      <td>1995-7</td>\n",
       "      <td>5</td>\n",
       "    </tr>\n",
       "    <tr>\n",
       "      <th>3</th>\n",
       "      <td>1995-07-23</td>\n",
       "      <td>0</td>\n",
       "      <td>1.073</td>\n",
       "      <td>7</td>\n",
       "      <td>23</td>\n",
       "      <td>1995</td>\n",
       "      <td>1995-7</td>\n",
       "      <td>6</td>\n",
       "    </tr>\n",
       "    <tr>\n",
       "      <th>4</th>\n",
       "      <td>1995-07-24</td>\n",
       "      <td>0</td>\n",
       "      <td>1.000</td>\n",
       "      <td>7</td>\n",
       "      <td>24</td>\n",
       "      <td>1995</td>\n",
       "      <td>1995-7</td>\n",
       "      <td>0</td>\n",
       "    </tr>\n",
       "    <tr>\n",
       "      <th>5</th>\n",
       "      <td>1995-07-25</td>\n",
       "      <td>0</td>\n",
       "      <td>0.990</td>\n",
       "      <td>7</td>\n",
       "      <td>25</td>\n",
       "      <td>1995</td>\n",
       "      <td>1995-7</td>\n",
       "      <td>1</td>\n",
       "    </tr>\n",
       "  </tbody>\n",
       "</table>\n",
       "</div>"
      ],
      "text/plain": [
       "       Fecha variable  value  mes  dia   año año-mes  diasemana\n",
       "1 1995-07-21        0  1.073    7   21  1995  1995-7          4\n",
       "2 1995-07-22        0  1.073    7   22  1995  1995-7          5\n",
       "3 1995-07-23        0  1.073    7   23  1995  1995-7          6\n",
       "4 1995-07-24        0  1.000    7   24  1995  1995-7          0\n",
       "5 1995-07-25        0  0.990    7   25  1995  1995-7          1"
      ]
     },
     "execution_count": 157,
     "metadata": {},
     "output_type": "execute_result"
    }
   ],
   "source": [
    "Tabla13['Fecha'] = pd.to_datetime(Tabla13['Fecha'])\n",
    "Tabla13.head()"
   ]
  },
  {
   "cell_type": "code",
   "execution_count": 158,
   "metadata": {},
   "outputs": [
    {
     "data": {
      "text/html": [
       "<div>\n",
       "<style scoped>\n",
       "    .dataframe tbody tr th:only-of-type {\n",
       "        vertical-align: middle;\n",
       "    }\n",
       "\n",
       "    .dataframe tbody tr th {\n",
       "        vertical-align: top;\n",
       "    }\n",
       "\n",
       "    .dataframe thead th {\n",
       "        text-align: right;\n",
       "    }\n",
       "</style>\n",
       "<table border=\"1\" class=\"dataframe\">\n",
       "  <thead>\n",
       "    <tr style=\"text-align: right;\">\n",
       "      <th></th>\n",
       "      <th>Fecha</th>\n",
       "      <th>variable</th>\n",
       "      <th>value</th>\n",
       "      <th>mes</th>\n",
       "      <th>dia</th>\n",
       "      <th>año</th>\n",
       "      <th>año-mes</th>\n",
       "      <th>diasemana</th>\n",
       "      <th>PromDia</th>\n",
       "      <th>PromAñoMes</th>\n",
       "    </tr>\n",
       "  </thead>\n",
       "  <tbody>\n",
       "    <tr>\n",
       "      <th>0</th>\n",
       "      <td>1995-07-21</td>\n",
       "      <td>0</td>\n",
       "      <td>1.073</td>\n",
       "      <td>7</td>\n",
       "      <td>21</td>\n",
       "      <td>1995</td>\n",
       "      <td>1995-7</td>\n",
       "      <td>4</td>\n",
       "      <td>4.924333</td>\n",
       "      <td>1.540655</td>\n",
       "    </tr>\n",
       "    <tr>\n",
       "      <th>1</th>\n",
       "      <td>1995-07-21</td>\n",
       "      <td>1</td>\n",
       "      <td>1.000</td>\n",
       "      <td>7</td>\n",
       "      <td>21</td>\n",
       "      <td>1995</td>\n",
       "      <td>1995-7</td>\n",
       "      <td>4</td>\n",
       "      <td>4.924333</td>\n",
       "      <td>1.540655</td>\n",
       "    </tr>\n",
       "    <tr>\n",
       "      <th>2</th>\n",
       "      <td>1995-07-21</td>\n",
       "      <td>10</td>\n",
       "      <td>6.000</td>\n",
       "      <td>7</td>\n",
       "      <td>21</td>\n",
       "      <td>1995</td>\n",
       "      <td>1995-7</td>\n",
       "      <td>4</td>\n",
       "      <td>4.924333</td>\n",
       "      <td>1.540655</td>\n",
       "    </tr>\n",
       "    <tr>\n",
       "      <th>3</th>\n",
       "      <td>1995-07-21</td>\n",
       "      <td>11</td>\n",
       "      <td>9.256</td>\n",
       "      <td>7</td>\n",
       "      <td>21</td>\n",
       "      <td>1995</td>\n",
       "      <td>1995-7</td>\n",
       "      <td>4</td>\n",
       "      <td>4.924333</td>\n",
       "      <td>1.540655</td>\n",
       "    </tr>\n",
       "    <tr>\n",
       "      <th>4</th>\n",
       "      <td>1995-07-21</td>\n",
       "      <td>12</td>\n",
       "      <td>9.256</td>\n",
       "      <td>7</td>\n",
       "      <td>21</td>\n",
       "      <td>1995</td>\n",
       "      <td>1995-7</td>\n",
       "      <td>4</td>\n",
       "      <td>4.924333</td>\n",
       "      <td>1.540655</td>\n",
       "    </tr>\n",
       "  </tbody>\n",
       "</table>\n",
       "</div>"
      ],
      "text/plain": [
       "       Fecha variable  value  mes  dia   año año-mes  diasemana   PromDia  \\\n",
       "0 1995-07-21        0  1.073    7   21  1995  1995-7          4  4.924333   \n",
       "1 1995-07-21        1  1.000    7   21  1995  1995-7          4  4.924333   \n",
       "2 1995-07-21       10  6.000    7   21  1995  1995-7          4  4.924333   \n",
       "3 1995-07-21       11  9.256    7   21  1995  1995-7          4  4.924333   \n",
       "4 1995-07-21       12  9.256    7   21  1995  1995-7          4  4.924333   \n",
       "\n",
       "   PromAñoMes  \n",
       "0    1.540655  \n",
       "1    1.540655  \n",
       "2    1.540655  \n",
       "3    1.540655  \n",
       "4    1.540655  "
      ]
     },
     "execution_count": 158,
     "metadata": {},
     "output_type": "execute_result"
    }
   ],
   "source": [
    "Tabla13 = pd.merge(Tabla13, tablaPromFecha, on=['Fecha'], how='inner')\n",
    "Tabla13 = pd.merge(Tabla13, tablaPromAñoMes, on=['año-mes'], how='inner')\n",
    "Tabla13.head()"
   ]
  },
  {
   "cell_type": "code",
   "execution_count": null,
   "metadata": {},
   "outputs": [],
   "source": []
  },
  {
   "cell_type": "code",
   "execution_count": 160,
   "metadata": {},
   "outputs": [
    {
     "data": {
      "text/plain": [
       "<matplotlib.legend.Legend at 0x7f7c5ecffe48>"
      ]
     },
     "execution_count": 160,
     "metadata": {},
     "output_type": "execute_result"
    },
    {
     "data": {
      "image/png": "[encoded data removed]",
      "text/plain": [
       "<Figure size 432x288 with 1 Axes>"
      ]
     },
     "metadata": {
      "needs_background": "light"
     },
     "output_type": "display_data"
    }
   ],
   "source": [
    "fig = plt.plot(Tabla13['Fecha'],Tabla13['PromDia'], label='Promedio Día')\n",
    "plt.plot(Tabla13['Fecha'],Tabla13['PromAñoMes'], label='Promedio Mes')\n",
    "plt.legend(bbox_to_anchor=(1.05, 1), loc=2, borderaxespad=0.)"
   ]
  },
  {
   "cell_type": "code",
   "execution_count": null,
   "metadata": {},
   "outputs": [],
   "source": []
  }
 ],
 "metadata": {
  "anaconda-cloud": {},
  "kernel_info": {
   "name": "python3"
  },
  "kernelspec": {
   "display_name": "Python 3",
   "language": "python",
   "name": "python3"
  },
  "language_info": {
   "codemirror_mode": {
    "name": "ipython",
    "version": 3
   },
   "file_extension": ".py",
   "mimetype": "text/x-python",
   "name": "python",
   "nbconvert_exporter": "python",
   "pygments_lexer": "ipython3",
   "version": "3.6.7"
  },
  "nteract": {
   "version": "0.7.1"
  }
 },
 "nbformat": 4,
 "nbformat_minor": 2
}
